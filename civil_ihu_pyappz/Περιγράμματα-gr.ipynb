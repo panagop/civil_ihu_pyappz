{
 "cells": [
  {
   "cell_type": "code",
   "execution_count": 1,
   "id": "408fa9c9-3f22-45c9-b1da-9863e38d1bc6",
   "metadata": {
    "tags": []
   },
   "outputs": [
    {
     "name": "stderr",
     "output_type": "stream",
     "text": [
      "d:\\mypython_projects\\civil_ihu_pyappz\\.venv\\Lib\\site-packages\\docxcompose\\properties.py:18: UserWarning: pkg_resources is deprecated as an API. See https://setuptools.pypa.io/en/latest/pkg_resources.html. The pkg_resources package is slated for removal as early as 2025-11-30. Refrain from using this package or pin to Setuptools<81.\n",
      "  import pkg_resources\n"
     ]
    }
   ],
   "source": [
    "import pandas as pd\n",
    "from docxtpl import DocxTemplate\n",
    "from docxcompose.composer import Composer\n",
    "from docx import Document\n",
    "from docx.enum.text import WD_BREAK\n",
    "import json\n",
    "from sys import getsizeof"
   ]
  },
  {
   "cell_type": "code",
   "execution_count": 2,
   "id": "93e3fdbb-ae63-49af-b9fb-034c772104c1",
   "metadata": {
    "tags": []
   },
   "outputs": [],
   "source": [
    "try:\n",
    "    with open('keys.json') as f:\n",
    "       data = json.load(f)\n",
    "       gsheet_perigrammata_id = data['gsheet_perigrammata']\n",
    "except:\n",
    "    pass"
   ]
  },
  {
   "cell_type": "code",
   "execution_count": 3,
   "id": "5fb75793-3ca2-483c-b45b-69ca3afffc4d",
   "metadata": {
    "tags": []
   },
   "outputs": [],
   "source": [
    "def replace_none_with_empty_str(some_dict):\n",
    "    return {k: ('' if v is None else v) for k, v in some_dict.items()}"
   ]
  },
  {
   "cell_type": "code",
   "execution_count": 4,
   "id": "f08d7c70-fc29-41dc-9316-90984bdc7a35",
   "metadata": {
    "tags": []
   },
   "outputs": [],
   "source": [
    "import io"
   ]
  },
  {
   "cell_type": "code",
   "execution_count": 5,
   "id": "03c7eb3b-9b3b-4b7b-beeb-bd55e21c2c88",
   "metadata": {
    "tags": []
   },
   "outputs": [],
   "source": [
    "with open('Perigrammata-template-gr.docx', 'rb') as f:\n",
    "    bytes_io = io.BytesIO(f.read())"
   ]
  },
  {
   "cell_type": "code",
   "execution_count": 6,
   "id": "1bcd2b34-5642-47ea-9410-6cef40841aad",
   "metadata": {
    "tags": []
   },
   "outputs": [
    {
     "data": {
      "text/plain": [
       "<_io.BytesIO at 0x1a43eb94b80>"
      ]
     },
     "execution_count": 6,
     "metadata": {},
     "output_type": "execute_result"
    }
   ],
   "source": [
    "bytes_io"
   ]
  },
  {
   "cell_type": "code",
   "execution_count": 7,
   "id": "097becd1-761d-4b29-8b4d-8e2c3ca79f66",
   "metadata": {
    "tags": []
   },
   "outputs": [
    {
     "data": {
      "text/plain": [
       "{'code',\n",
       " 'department',\n",
       " 'didactivities_ects1',\n",
       " 'didactivities_ects2',\n",
       " 'didactivities_hours1',\n",
       " 'didactivities_hours2',\n",
       " 'didactivities_name1',\n",
       " 'didactivities_name2',\n",
       " 'erasmus',\n",
       " 'examino',\n",
       " 'grading',\n",
       " 'hours1',\n",
       " 'hours2',\n",
       " 'hours3',\n",
       " 'hours4',\n",
       " 'hours5',\n",
       " 'hours_sum',\n",
       " 'lang',\n",
       " 'learn_objectives',\n",
       " 'level',\n",
       " 'name',\n",
       " 'prereq',\n",
       " 'prereq_knowledge',\n",
       " 'refs_books',\n",
       " 'school',\n",
       " 'skills',\n",
       " 'subject1',\n",
       " 'subject2',\n",
       " 'subject3',\n",
       " 'task1',\n",
       " 'task2',\n",
       " 'task3',\n",
       " 'task4',\n",
       " 'task5',\n",
       " 'teaching_way',\n",
       " 'techs_used',\n",
       " 'type',\n",
       " 'website'}"
      ]
     },
     "execution_count": 7,
     "metadata": {},
     "output_type": "execute_result"
    }
   ],
   "source": [
    "doc = DocxTemplate(bytes_io)\n",
    "doc.undeclared_template_variables"
   ]
  },
  {
   "cell_type": "code",
   "execution_count": null,
   "id": "703a8934-191f-4329-85b1-d0d90417ba5c",
   "metadata": {
    "tags": []
   },
   "outputs": [],
   "source": []
  },
  {
   "cell_type": "code",
   "execution_count": 8,
   "id": "3faa1f5b-9b77-4b50-bf5e-3cea2d149bb7",
   "metadata": {
    "tags": []
   },
   "outputs": [],
   "source": [
    "import requests"
   ]
  },
  {
   "cell_type": "code",
   "execution_count": 9,
   "id": "b3cbf3e8-4ccc-4fc0-89a6-e815a9cf9138",
   "metadata": {
    "tags": []
   },
   "outputs": [],
   "source": [
    "url = r\"https://github.com/panagop/civil_ihu_pyappz/raw/daf2ec082269559dcc28c8675b0a55178fd3b122/civil_ihu_pyappz/Perigrammata-template-gr.docx\"\n",
    "response = requests.get(url)\n",
    "bytes_io = io.BytesIO(response.content)"
   ]
  },
  {
   "cell_type": "code",
   "execution_count": 10,
   "id": "05a75515-1544-4df1-a853-af3996fe6003",
   "metadata": {
    "tags": []
   },
   "outputs": [
    {
     "data": {
      "text/plain": [
       "{'code',\n",
       " 'department',\n",
       " 'didactivities_ects1',\n",
       " 'didactivities_ects2',\n",
       " 'didactivities_hours1',\n",
       " 'didactivities_hours2',\n",
       " 'didactivities_name1',\n",
       " 'didactivities_name2',\n",
       " 'erasmus',\n",
       " 'examino',\n",
       " 'grading',\n",
       " 'hours1',\n",
       " 'hours2',\n",
       " 'hours3',\n",
       " 'hours4',\n",
       " 'hours5',\n",
       " 'hours_sum',\n",
       " 'lang',\n",
       " 'learn_objectives',\n",
       " 'level',\n",
       " 'name',\n",
       " 'prereq',\n",
       " 'prereq_knowledge',\n",
       " 'refs_books',\n",
       " 'school',\n",
       " 'skills',\n",
       " 'subject1',\n",
       " 'subject2',\n",
       " 'subject3',\n",
       " 'task1',\n",
       " 'task2',\n",
       " 'task3',\n",
       " 'task4',\n",
       " 'task5',\n",
       " 'teaching_way',\n",
       " 'techs_used',\n",
       " 'type',\n",
       " 'website'}"
      ]
     },
     "execution_count": 10,
     "metadata": {},
     "output_type": "execute_result"
    }
   ],
   "source": [
    "doc = DocxTemplate(bytes_io)\n",
    "doc.undeclared_template_variables"
   ]
  },
  {
   "cell_type": "code",
   "execution_count": null,
   "id": "4c2818a9-07f6-4020-8a55-041813e94ac4",
   "metadata": {},
   "outputs": [],
   "source": []
  },
  {
   "cell_type": "code",
   "execution_count": null,
   "id": "4498f435-bccd-4454-adcc-e37fc5af3b93",
   "metadata": {},
   "outputs": [],
   "source": []
  },
  {
   "cell_type": "code",
   "execution_count": null,
   "id": "c6da1d9d-3579-4db4-8a68-df068ade7ab4",
   "metadata": {},
   "outputs": [],
   "source": []
  },
  {
   "cell_type": "code",
   "execution_count": 11,
   "id": "d6bfd582-8a45-4596-83e6-2a5274dce744",
   "metadata": {
    "tags": []
   },
   "outputs": [],
   "source": [
    "doc = DocxTemplate(\"Perigrammata-template-gr.docx\")\n",
    "\n",
    "doc_examino = DocxTemplate(\"Εξάμηνο-template-gr.docx\")"
   ]
  },
  {
   "cell_type": "code",
   "execution_count": 12,
   "id": "3cf373e3-ce5a-4c92-8374-00deb727742c",
   "metadata": {
    "tags": []
   },
   "outputs": [
    {
     "data": {
      "text/plain": [
       "{'code',\n",
       " 'department',\n",
       " 'didactivities_ects1',\n",
       " 'didactivities_ects2',\n",
       " 'didactivities_hours1',\n",
       " 'didactivities_hours2',\n",
       " 'didactivities_name1',\n",
       " 'didactivities_name2',\n",
       " 'erasmus',\n",
       " 'examino',\n",
       " 'grading',\n",
       " 'hours1',\n",
       " 'hours2',\n",
       " 'hours3',\n",
       " 'hours4',\n",
       " 'hours5',\n",
       " 'hours_sum',\n",
       " 'lang',\n",
       " 'learn_objectives',\n",
       " 'level',\n",
       " 'name',\n",
       " 'prereq',\n",
       " 'prereq_knowledge',\n",
       " 'refs_books',\n",
       " 'school',\n",
       " 'skills',\n",
       " 'subject1',\n",
       " 'subject2',\n",
       " 'subject3',\n",
       " 'task1',\n",
       " 'task2',\n",
       " 'task3',\n",
       " 'task4',\n",
       " 'task5',\n",
       " 'teaching_way',\n",
       " 'techs_used',\n",
       " 'type',\n",
       " 'website'}"
      ]
     },
     "execution_count": 12,
     "metadata": {},
     "output_type": "execute_result"
    }
   ],
   "source": [
    "doc.undeclared_template_variables\n"
   ]
  },
  {
   "cell_type": "code",
   "execution_count": null,
   "id": "556909d2-d088-4f1e-935c-3d087d422294",
   "metadata": {},
   "outputs": [],
   "source": []
  },
  {
   "cell_type": "code",
   "execution_count": null,
   "id": "a3d3590d-d0db-4147-b83f-5d638f2dad72",
   "metadata": {},
   "outputs": [],
   "source": []
  },
  {
   "cell_type": "code",
   "execution_count": null,
   "id": "4e698419-a62a-4d89-bc2b-abd8b2ac0485",
   "metadata": {},
   "outputs": [],
   "source": []
  },
  {
   "cell_type": "code",
   "execution_count": null,
   "id": "d6a0f140-a5c8-445e-9ac8-2d5a1fd5b025",
   "metadata": {},
   "outputs": [],
   "source": []
  },
  {
   "cell_type": "code",
   "execution_count": null,
   "id": "32768002-793b-450c-9fb0-659c99e387bb",
   "metadata": {
    "tags": []
   },
   "outputs": [
    {
     "ename": "NameError",
     "evalue": "name 'gsheet_perigrammata_id' is not defined",
     "output_type": "error",
     "traceback": [
      "\u001b[31m---------------------------------------------------------------------------\u001b[39m",
      "\u001b[31mNameError\u001b[39m                                 Traceback (most recent call last)",
      "\u001b[36mCell\u001b[39m\u001b[36m \u001b[39m\u001b[32mIn[14]\u001b[39m\u001b[32m, line 1\u001b[39m\n\u001b[32m----> \u001b[39m\u001b[32m1\u001b[39m sheet_id = \u001b[43mgsheet_perigrammata_id\u001b[49m\n\u001b[32m      2\u001b[39m sheet_name = \u001b[33m\"\u001b[39m\u001b[33mgr\u001b[39m\u001b[33m\"\u001b[39m\n\u001b[32m      3\u001b[39m url = \u001b[33mf\u001b[39m\u001b[33m\"\u001b[39m\u001b[33mhttps://docs.google.com/spreadsheets/d/\u001b[39m\u001b[38;5;132;01m{\u001b[39;00msheet_id\u001b[38;5;132;01m}\u001b[39;00m\u001b[33m/gviz/tq?tqx=out:csv&sheet=\u001b[39m\u001b[38;5;132;01m{\u001b[39;00msheet_name\u001b[38;5;132;01m}\u001b[39;00m\u001b[33m\"\u001b[39m\n",
      "\u001b[31mNameError\u001b[39m: name 'gsheet_perigrammata_id' is not defined"
     ]
    }
   ],
   "source": [
    "sheet_id = gsheet_perigrammata_id\n",
    "sheet_name = \"gr\"\n",
    "url = f\"https://docs.google.com/spreadsheets/d/{sheet_id}/gviz/tq?tqx=out:csv&sheet={sheet_name}\""
   ]
  },
  {
   "cell_type": "code",
   "execution_count": null,
   "id": "8ea042d4-0c8a-4a7c-9f30-38abd5fb7c1d",
   "metadata": {
    "tags": []
   },
   "outputs": [],
   "source": [
    "# df = pd.read_excel('Περιγράμματα-Δεδομένα (gr-eng).xlsx', sheet_name='gr', dtype_backend='pyarrow')\n",
    "# df = df.drop([0])\n",
    "\n",
    "df = pd.read_csv(url, dtype_backend='pyarrow')\n",
    "\n",
    "# df = df.fillna('')"
   ]
  },
  {
   "cell_type": "code",
   "execution_count": null,
   "id": "c97f2dca-cbc0-4b0f-8342-bd94a7367338",
   "metadata": {
    "tags": []
   },
   "outputs": [
    {
     "name": "stdout",
     "output_type": "stream",
     "text": [
      "<class 'pandas.core.frame.DataFrame'>\n",
      "RangeIndex: 102 entries, 0 to 101\n",
      "Data columns (total 41 columns):\n",
      " #   Column                Non-Null Count  Dtype          \n",
      "---  ------                --------------  -----          \n",
      " 0   id                    102 non-null    int64[pyarrow] \n",
      " 1   code                  102 non-null    string[pyarrow]\n",
      " 2   name                  102 non-null    string[pyarrow]\n",
      " 3   school                102 non-null    string[pyarrow]\n",
      " 4   department            102 non-null    string[pyarrow]\n",
      " 5   level                 102 non-null    string[pyarrow]\n",
      " 6   examino               102 non-null    int64[pyarrow] \n",
      " 7   didactivities_name1   102 non-null    string[pyarrow]\n",
      " 8   didactivities_hours1  99 non-null     int64[pyarrow] \n",
      " 9   didactivities_ects1   102 non-null    int64[pyarrow] \n",
      " 10  didactivities_name2   0 non-null      null[pyarrow]  \n",
      " 11  didactivities_hours2  0 non-null      null[pyarrow]  \n",
      " 12  didactivities_ects2   0 non-null      null[pyarrow]  \n",
      " 13  type                  102 non-null    string[pyarrow]\n",
      " 14  prereq                1 non-null      string[pyarrow]\n",
      " 15  prereq_knowledge      47 non-null     string[pyarrow]\n",
      " 16  lang                  102 non-null    string[pyarrow]\n",
      " 17  erasmus               102 non-null    string[pyarrow]\n",
      " 18  website               28 non-null     string[pyarrow]\n",
      " 19  learn_objectives      102 non-null    string[pyarrow]\n",
      " 20  skills                102 non-null    string[pyarrow]\n",
      " 21  subject1              102 non-null    string[pyarrow]\n",
      " 22  subject2              10 non-null     string[pyarrow]\n",
      " 23  subject3              4 non-null      string[pyarrow]\n",
      " 24  teaching_way          102 non-null    string[pyarrow]\n",
      " 25  techs_used            87 non-null     string[pyarrow]\n",
      " 26  task1                 102 non-null    string[pyarrow]\n",
      " 27  hours1                99 non-null     int64[pyarrow] \n",
      " 28  task2                 102 non-null    string[pyarrow]\n",
      " 29  hours2                94 non-null     int64[pyarrow] \n",
      " 30  task3                 71 non-null     string[pyarrow]\n",
      " 31  hours3                60 non-null     int64[pyarrow] \n",
      " 32  task4                 50 non-null     string[pyarrow]\n",
      " 33  hours4                41 non-null     int64[pyarrow] \n",
      " 34  task5                 15 non-null     string[pyarrow]\n",
      " 35  hours5                14 non-null     int64[pyarrow] \n",
      " 36  hours_sum             102 non-null    int64[pyarrow] \n",
      " 37  grading               102 non-null    string[pyarrow]\n",
      " 38  refs_books            102 non-null    string[pyarrow]\n",
      " 39  refs_more_title       0 non-null      null[pyarrow]  \n",
      " 40  refs_more             0 non-null      null[pyarrow]  \n",
      "dtypes: int64[pyarrow](10), null[pyarrow](5), string[pyarrow](26)\n",
      "memory usage: 727.5 KB\n"
     ]
    }
   ],
   "source": [
    "df.info()"
   ]
  },
  {
   "cell_type": "code",
   "execution_count": null,
   "id": "a02a83a1-85e4-4aeb-85e9-13b1f9daf36b",
   "metadata": {
    "tags": []
   },
   "outputs": [
    {
     "data": {
      "text/html": [
       "<div>\n",
       "<style scoped>\n",
       "    .dataframe tbody tr th:only-of-type {\n",
       "        vertical-align: middle;\n",
       "    }\n",
       "\n",
       "    .dataframe tbody tr th {\n",
       "        vertical-align: top;\n",
       "    }\n",
       "\n",
       "    .dataframe thead th {\n",
       "        text-align: right;\n",
       "    }\n",
       "</style>\n",
       "<table border=\"1\" class=\"dataframe\">\n",
       "  <thead>\n",
       "    <tr style=\"text-align: right;\">\n",
       "      <th></th>\n",
       "      <th>id</th>\n",
       "      <th>code</th>\n",
       "      <th>name</th>\n",
       "      <th>school</th>\n",
       "      <th>department</th>\n",
       "      <th>level</th>\n",
       "      <th>examino</th>\n",
       "      <th>didactivities_name1</th>\n",
       "      <th>didactivities_hours1</th>\n",
       "      <th>didactivities_ects1</th>\n",
       "      <th>...</th>\n",
       "      <th>hours3</th>\n",
       "      <th>task4</th>\n",
       "      <th>hours4</th>\n",
       "      <th>task5</th>\n",
       "      <th>hours5</th>\n",
       "      <th>hours_sum</th>\n",
       "      <th>grading</th>\n",
       "      <th>refs_books</th>\n",
       "      <th>refs_more_title</th>\n",
       "      <th>refs_more</th>\n",
       "    </tr>\n",
       "  </thead>\n",
       "  <tbody>\n",
       "    <tr>\n",
       "      <th>0</th>\n",
       "      <td>1</td>\n",
       "      <td>ΓΕΝ002</td>\n",
       "      <td>Γραμμική Άλγεβρα και Αναλυτική Γεωμετρία</td>\n",
       "      <td>ΜΗΧΑΝΙΚΩΝ</td>\n",
       "      <td>ΠΟΛΙΤΙΚΩΝ ΜΗΧΑΝΙΚΩΝ</td>\n",
       "      <td>Προπτυχιακό</td>\n",
       "      <td>1</td>\n",
       "      <td>Διαλέξεις – Ασκήσεις Πράξης</td>\n",
       "      <td>3</td>\n",
       "      <td>5</td>\n",
       "      <td>...</td>\n",
       "      <td>&lt;NA&gt;</td>\n",
       "      <td>&lt;NA&gt;</td>\n",
       "      <td>&lt;NA&gt;</td>\n",
       "      <td>&lt;NA&gt;</td>\n",
       "      <td>&lt;NA&gt;</td>\n",
       "      <td>130</td>\n",
       "      <td>Τελική Αξιολόγηση του Μαθήματος:\n",
       "    • Γραπτή ...</td>\n",
       "      <td>Τερζίδης Χαράλαμπος, Λογισμός συναρτήσεων μιας...</td>\n",
       "      <td>&lt;NA&gt;</td>\n",
       "      <td>&lt;NA&gt;</td>\n",
       "    </tr>\n",
       "    <tr>\n",
       "      <th>1</th>\n",
       "      <td>2</td>\n",
       "      <td>ΓΕΝ001</td>\n",
       "      <td>Απειροστικός Λογισμός Ι</td>\n",
       "      <td>ΜΗΧΑΝΙΚΩΝ</td>\n",
       "      <td>ΠΟΛΙΤΙΚΩΝ ΜΗΧΑΝΙΚΩΝ</td>\n",
       "      <td>Προπτυχιακό</td>\n",
       "      <td>1</td>\n",
       "      <td>Διαλέξεις – Ασκήσεις Πράξης</td>\n",
       "      <td>4</td>\n",
       "      <td>5</td>\n",
       "      <td>...</td>\n",
       "      <td>&lt;NA&gt;</td>\n",
       "      <td>&lt;NA&gt;</td>\n",
       "      <td>&lt;NA&gt;</td>\n",
       "      <td>&lt;NA&gt;</td>\n",
       "      <td>&lt;NA&gt;</td>\n",
       "      <td>130</td>\n",
       "      <td>Τελική Αξιολόγηση του Μαθήματος:\n",
       "    • Γραπτή ...</td>\n",
       "      <td>Τερζίδης Χαράλαμπος, Λογισμός συναρτήσεων μιας...</td>\n",
       "      <td>&lt;NA&gt;</td>\n",
       "      <td>&lt;NA&gt;</td>\n",
       "    </tr>\n",
       "    <tr>\n",
       "      <th>2</th>\n",
       "      <td>3</td>\n",
       "      <td>ΣΥΓ001</td>\n",
       "      <td>Γεωδαισία Ι</td>\n",
       "      <td>ΜΗΧΑΝΙΚΩΝ</td>\n",
       "      <td>ΠΟΛΙΤΙΚΩΝ ΜΗΧΑΝΙΚΩΝ</td>\n",
       "      <td>Προπτυχιακό</td>\n",
       "      <td>1</td>\n",
       "      <td>Διαλέξεις και Εργαστηριακές Ασκήσεις</td>\n",
       "      <td>4</td>\n",
       "      <td>5</td>\n",
       "      <td>...</td>\n",
       "      <td>26</td>\n",
       "      <td>Αυτοτελής Μελέτη</td>\n",
       "      <td>52</td>\n",
       "      <td>&lt;NA&gt;</td>\n",
       "      <td>&lt;NA&gt;</td>\n",
       "      <td>130</td>\n",
       "      <td>Συμπερασματική Αξιολόγηση\n",
       "• Εργαστηριακή Εργασ...</td>\n",
       "      <td>Μαθήματα Γεωδαισίας, 2η Έκδοση, Γεωργόπουλος Γ...</td>\n",
       "      <td>&lt;NA&gt;</td>\n",
       "      <td>&lt;NA&gt;</td>\n",
       "    </tr>\n",
       "    <tr>\n",
       "      <th>3</th>\n",
       "      <td>4</td>\n",
       "      <td>ΓΕΝ003</td>\n",
       "      <td>Φυσική για Μηχανικούς</td>\n",
       "      <td>ΜΗΧΑΝΙΚΩΝ</td>\n",
       "      <td>ΠΟΛΙΤΙΚΩΝ ΜΗΧΑΝΙΚΩΝ</td>\n",
       "      <td>Προπτυχιακό</td>\n",
       "      <td>1</td>\n",
       "      <td>Διαλέξεις, Ασκήσεις Πράξης και Εργαστηριακές Α...</td>\n",
       "      <td>5</td>\n",
       "      <td>6</td>\n",
       "      <td>...</td>\n",
       "      <td>6</td>\n",
       "      <td>Συγγραφή Εργασιών</td>\n",
       "      <td>9</td>\n",
       "      <td>Αυτοτελής Μελέτη</td>\n",
       "      <td>82</td>\n",
       "      <td>156</td>\n",
       "      <td>Αξιολόγηση Θεωρίας (90% του τελικού βαθμού):\n",
       " ...</td>\n",
       "      <td>Young H., Freedman R., Πανεπιστημιακή φυσική μ...</td>\n",
       "      <td>&lt;NA&gt;</td>\n",
       "      <td>&lt;NA&gt;</td>\n",
       "    </tr>\n",
       "    <tr>\n",
       "      <th>4</th>\n",
       "      <td>5</td>\n",
       "      <td>ΔΟΜ001</td>\n",
       "      <td>Τεχνικό Σχέδιο</td>\n",
       "      <td>ΜΗΧΑΝΙΚΩΝ</td>\n",
       "      <td>ΠΟΛΙΤΙΚΩΝ ΜΗΧΑΝΙΚΩΝ</td>\n",
       "      <td>Προπτυχιακό</td>\n",
       "      <td>1</td>\n",
       "      <td>Διαλέξεις, Ασκήσεις Πράξης και Εργαστηριακές Α...</td>\n",
       "      <td>&lt;NA&gt;</td>\n",
       "      <td>5</td>\n",
       "      <td>...</td>\n",
       "      <td>&lt;NA&gt;</td>\n",
       "      <td>Αυτοτελής Μελέτη</td>\n",
       "      <td>30</td>\n",
       "      <td>Ατομική Εργασία</td>\n",
       "      <td>43</td>\n",
       "      <td>125</td>\n",
       "      <td>α. Τελική γραπτή εξέταση: Ερωτήσεις θεωρίας,  ...</td>\n",
       "      <td>Μαλικούτη, Στ., «ΤΕΧΝΙΚΟ ΣΧΕΔΙΟ: Στοιχεία θεωρ...</td>\n",
       "      <td>&lt;NA&gt;</td>\n",
       "      <td>&lt;NA&gt;</td>\n",
       "    </tr>\n",
       "  </tbody>\n",
       "</table>\n",
       "<p>5 rows × 41 columns</p>\n",
       "</div>"
      ],
      "text/plain": [
       "   id    code                                       name     school   \n",
       "0   1  ΓΕΝ002  Γραμμική Άλγεβρα και Αναλυτική Γεωμετρία   ΜΗΧΑΝΙΚΩΝ  \\\n",
       "1   2  ΓΕΝ001                   Απειροστικός Λογισμός Ι   ΜΗΧΑΝΙΚΩΝ   \n",
       "2   3  ΣΥΓ001                                Γεωδαισία Ι  ΜΗΧΑΝΙΚΩΝ   \n",
       "3   4  ΓΕΝ003                      Φυσική για Μηχανικούς  ΜΗΧΑΝΙΚΩΝ   \n",
       "4   5  ΔΟΜ001                             Τεχνικό Σχέδιο  ΜΗΧΑΝΙΚΩΝ   \n",
       "\n",
       "            department        level  examino   \n",
       "0  ΠΟΛΙΤΙΚΩΝ ΜΗΧΑΝΙΚΩΝ  Προπτυχιακό        1  \\\n",
       "1  ΠΟΛΙΤΙΚΩΝ ΜΗΧΑΝΙΚΩΝ  Προπτυχιακό        1   \n",
       "2  ΠΟΛΙΤΙΚΩΝ ΜΗΧΑΝΙΚΩΝ  Προπτυχιακό        1   \n",
       "3  ΠΟΛΙΤΙΚΩΝ ΜΗΧΑΝΙΚΩΝ  Προπτυχιακό        1   \n",
       "4  ΠΟΛΙΤΙΚΩΝ ΜΗΧΑΝΙΚΩΝ  Προπτυχιακό        1   \n",
       "\n",
       "                                 didactivities_name1  didactivities_hours1   \n",
       "0                        Διαλέξεις – Ασκήσεις Πράξης                     3  \\\n",
       "1                        Διαλέξεις – Ασκήσεις Πράξης                     4   \n",
       "2               Διαλέξεις και Εργαστηριακές Ασκήσεις                     4   \n",
       "3  Διαλέξεις, Ασκήσεις Πράξης και Εργαστηριακές Α...                     5   \n",
       "4  Διαλέξεις, Ασκήσεις Πράξης και Εργαστηριακές Α...                  <NA>   \n",
       "\n",
       "   didactivities_ects1  ... hours3              task4 hours4   \n",
       "0                    5  ...   <NA>               <NA>   <NA>  \\\n",
       "1                    5  ...   <NA>               <NA>   <NA>   \n",
       "2                    5  ...     26   Αυτοτελής Μελέτη     52   \n",
       "3                    6  ...      6  Συγγραφή Εργασιών      9   \n",
       "4                    5  ...   <NA>   Αυτοτελής Μελέτη     30   \n",
       "\n",
       "              task5 hours5 hours_sum   \n",
       "0              <NA>   <NA>       130  \\\n",
       "1              <NA>   <NA>       130   \n",
       "2              <NA>   <NA>       130   \n",
       "3  Αυτοτελής Μελέτη     82       156   \n",
       "4  Ατομική Εργασία      43       125   \n",
       "\n",
       "                                             grading   \n",
       "0  Τελική Αξιολόγηση του Μαθήματος:\n",
       "    • Γραπτή ...  \\\n",
       "1  Τελική Αξιολόγηση του Μαθήματος:\n",
       "    • Γραπτή ...   \n",
       "2  Συμπερασματική Αξιολόγηση\n",
       "• Εργαστηριακή Εργασ...   \n",
       "3  Αξιολόγηση Θεωρίας (90% του τελικού βαθμού):\n",
       " ...   \n",
       "4  α. Τελική γραπτή εξέταση: Ερωτήσεις θεωρίας,  ...   \n",
       "\n",
       "                                          refs_books refs_more_title refs_more  \n",
       "0  Τερζίδης Χαράλαμπος, Λογισμός συναρτήσεων μιας...            <NA>      <NA>  \n",
       "1  Τερζίδης Χαράλαμπος, Λογισμός συναρτήσεων μιας...            <NA>      <NA>  \n",
       "2  Μαθήματα Γεωδαισίας, 2η Έκδοση, Γεωργόπουλος Γ...            <NA>      <NA>  \n",
       "3  Young H., Freedman R., Πανεπιστημιακή φυσική μ...            <NA>      <NA>  \n",
       "4  Μαλικούτη, Στ., «ΤΕΧΝΙΚΟ ΣΧΕΔΙΟ: Στοιχεία θεωρ...            <NA>      <NA>  \n",
       "\n",
       "[5 rows x 41 columns]"
      ]
     },
     "execution_count": 9,
     "metadata": {},
     "output_type": "execute_result"
    }
   ],
   "source": [
    "df.head()"
   ]
  },
  {
   "cell_type": "code",
   "execution_count": null,
   "id": "1462a9fa-049a-47c9-b699-9594d2cd0fd3",
   "metadata": {
    "tags": []
   },
   "outputs": [],
   "source": [
    "column_names = df.columns.to_list()"
   ]
  },
  {
   "cell_type": "code",
   "execution_count": null,
   "id": "2c34f85b-eaa3-4485-9d16-f59e1871527c",
   "metadata": {
    "tags": []
   },
   "outputs": [],
   "source": [
    "# row = df.iloc[3]\n",
    "# print(row_dict['code'])\n",
    "# row_dict"
   ]
  },
  {
   "cell_type": "code",
   "execution_count": null,
   "id": "a90cf2c5-96a2-456e-a91b-0dea66bec529",
   "metadata": {
    "tags": []
   },
   "outputs": [],
   "source": [
    "# doc.render(row_dict)\n",
    "# doc.save(f\"generated_doc_1.docx\")"
   ]
  },
  {
   "cell_type": "code",
   "execution_count": null,
   "id": "4c4fac4c-8161-4ff8-b248-1ffa4da31773",
   "metadata": {
    "tags": []
   },
   "outputs": [],
   "source": [
    "# aaa = set()\n",
    "# type(aaa)"
   ]
  },
  {
   "cell_type": "code",
   "execution_count": null,
   "id": "a853b342-24d0-4761-a221-8dc8d0112792",
   "metadata": {
    "tags": []
   },
   "outputs": [],
   "source": []
  },
  {
   "cell_type": "code",
   "execution_count": null,
   "id": "68684b50-7497-4730-8402-21e0eeea2f1d",
   "metadata": {
    "tags": []
   },
   "outputs": [
    {
     "name": "stdout",
     "output_type": "stream",
     "text": [
      "gen\\01_examino.docx\n",
      "gen\\02_examino.docx\n",
      "gen\\03_examino.docx\n",
      "gen\\04_examino.docx\n",
      "gen\\05_examino.docx\n",
      "gen\\06_examino.docx\n",
      "gen\\07_examino.docx\n",
      "gen\\08_examino.docx\n",
      "gen\\09_examino.docx\n",
      "gen\\10_examino.docx\n"
     ]
    }
   ],
   "source": [
    "document_paths = []\n",
    "for index, row in df.iterrows():\n",
    "    examino_path = f\"gen\\{row['examino']:02}_examino.docx\"\n",
    "    if examino_path not in document_paths:\n",
    "        doc_examino.render({'examino': row['examino']})\n",
    "        doc_examino.save(examino_path)\n",
    "        document_paths.append(examino_path)\n",
    "        print(examino_path)\n",
    "    row_dict = row.to_dict()\n",
    "    row_dict = replace_none_with_empty_str(row_dict)\n",
    "    doc.render(row_dict)\n",
    "    path = f\"gen\\{row_dict['examino']:02}_{row_dict['code']}.docx\"\n",
    "    doc.save(path)\n",
    "    document_paths.append(path)"
   ]
  },
  {
   "cell_type": "code",
   "execution_count": null,
   "id": "db323f2e-823b-47ce-91b0-4d7ae9f9fa26",
   "metadata": {
    "tags": []
   },
   "outputs": [],
   "source": []
  },
  {
   "cell_type": "code",
   "execution_count": null,
   "id": "e4a17779-56b4-477d-877a-942827e936a4",
   "metadata": {
    "tags": []
   },
   "outputs": [
    {
     "data": {
      "text/plain": [
       "'gen\\\\01_ΓΕΝ002.docx'"
      ]
     },
     "execution_count": 20,
     "metadata": {},
     "output_type": "execute_result"
    }
   ],
   "source": [
    "document_paths[1]"
   ]
  },
  {
   "cell_type": "code",
   "execution_count": null,
   "id": "10c5c205-fbf0-4298-83fe-e6f8c31907ee",
   "metadata": {
    "tags": []
   },
   "outputs": [],
   "source": [
    "merged_document = Document('Perigrammata-template-gr.docx')\n",
    "composer = Composer(merged_document)\n",
    "for path in document_paths:\n",
    "    d = Document(path)\n",
    "    d.add_page_break()\n",
    "    composer.append(d)\n",
    "composer.save('merged_document.docx')"
   ]
  },
  {
   "cell_type": "code",
   "execution_count": null,
   "id": "03129133-437a-4a8c-bc2e-547846d286e0",
   "metadata": {
    "tags": []
   },
   "outputs": [],
   "source": []
  },
  {
   "cell_type": "code",
   "execution_count": null,
   "id": "a6392ad1-714b-4611-8322-2074b823315b",
   "metadata": {
    "tags": []
   },
   "outputs": [],
   "source": [
    "# sheet_id = \"1qOLxB2BNYvTLiTxofUSJCUVd7JIdkcflPTcR_FLub5k\"\n",
    "# sheet_name = \"gr\"\n",
    "# url = f\"https://docs.google.com/spreadsheets/d/{sheet_id}/gviz/tq?tqx=out:csv&sheet={sheet_name}\""
   ]
  },
  {
   "cell_type": "code",
   "execution_count": null,
   "id": "7429a542-3b3e-451d-837e-9410ee0f830e",
   "metadata": {
    "tags": []
   },
   "outputs": [],
   "source": [
    "# pd.read_csv(url, dtype_backend='pyarrow')"
   ]
  },
  {
   "cell_type": "code",
   "execution_count": null,
   "id": "1e67f4d6-1a32-44fb-b471-b9335ecc8c6b",
   "metadata": {},
   "outputs": [],
   "source": []
  },
  {
   "cell_type": "code",
   "execution_count": null,
   "id": "c4821431-92bf-4450-8ccd-bcab5ee2956d",
   "metadata": {
    "tags": []
   },
   "outputs": [],
   "source": [
    "print(f'{1:03}')"
   ]
  },
  {
   "cell_type": "code",
   "execution_count": null,
   "id": "470a5224-b810-49e0-a24b-45c283213671",
   "metadata": {
    "tags": []
   },
   "outputs": [],
   "source": [
    "document_paths"
   ]
  },
  {
   "cell_type": "code",
   "execution_count": null,
   "id": "0f7920b9-a07f-4936-ad14-ed002d37238c",
   "metadata": {
    "tags": []
   },
   "outputs": [],
   "source": []
  },
  {
   "cell_type": "code",
   "execution_count": null,
   "id": "a37b073b-0189-4c7d-b886-778ecf087ad2",
   "metadata": {
    "tags": []
   },
   "outputs": [],
   "source": []
  },
  {
   "cell_type": "code",
   "execution_count": null,
   "id": "695a6a3a-3ca8-48ef-8054-7051ad4eac3e",
   "metadata": {
    "tags": []
   },
   "outputs": [
    {
     "data": {
      "text/plain": [
       "'1qOLxB2BNYvTLiTxofUSJCUVd7JIdkcflPTcR_FLub5k'"
      ]
     },
     "execution_count": 31,
     "metadata": {},
     "output_type": "execute_result"
    }
   ],
   "source": [
    "data['gsheet_perigrammata']"
   ]
  },
  {
   "cell_type": "code",
   "execution_count": null,
   "id": "a78254ea-3573-4276-bb1e-4d71b50194a2",
   "metadata": {
    "tags": []
   },
   "outputs": [
    {
     "data": {
      "text/plain": [
       "'444'"
      ]
     },
     "execution_count": 36,
     "metadata": {},
     "output_type": "execute_result"
    }
   ],
   "source": [
    "gsheet_perigrammata2"
   ]
  },
  {
   "cell_type": "code",
   "execution_count": null,
   "id": "a67dd8db-95e8-4e59-b6ea-091296f4942f",
   "metadata": {},
   "outputs": [],
   "source": []
  }
 ],
 "metadata": {
  "kernelspec": {
   "display_name": "civil_ihu_pyappz",
   "language": "python",
   "name": "python3"
  },
  "language_info": {
   "codemirror_mode": {
    "name": "ipython",
    "version": 3
   },
   "file_extension": ".py",
   "mimetype": "text/x-python",
   "name": "python",
   "nbconvert_exporter": "python",
   "pygments_lexer": "ipython3",
   "version": "3.12.9"
  }
 },
 "nbformat": 4,
 "nbformat_minor": 5
}
