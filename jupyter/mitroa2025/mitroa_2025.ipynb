{
 "cells": [
  {
   "cell_type": "code",
   "execution_count": 1,
   "id": "13e872b4",
   "metadata": {},
   "outputs": [],
   "source": [
    "import pandas as pd"
   ]
  },
  {
   "cell_type": "code",
   "execution_count": 9,
   "id": "8e88f045",
   "metadata": {},
   "outputs": [
    {
     "data": {
      "application/vnd.microsoft.datawrangler.viewer.v0+json": {
       "columns": [
        {
         "name": "index",
         "rawType": "int64",
         "type": "integer"
        },
        {
         "name": "Κωδικός Χρήστη",
         "rawType": "int64",
         "type": "integer"
        },
        {
         "name": "Όνομα",
         "rawType": "object",
         "type": "string"
        },
        {
         "name": "Επώνυμο",
         "rawType": "object",
         "type": "string"
        },
        {
         "name": "Φορέας",
         "rawType": "object",
         "type": "string"
        },
        {
         "name": "Σχολή",
         "rawType": "object",
         "type": "unknown"
        },
        {
         "name": "Τμήμα/Ινστιτούτο",
         "rawType": "object",
         "type": "unknown"
        },
        {
         "name": "Βαθμίδα",
         "rawType": "object",
         "type": "string"
        },
        {
         "name": "URL Βιογραφικού",
         "rawType": "object",
         "type": "unknown"
        },
        {
         "name": "Γνωστικό Αντικείμενο",
         "rawType": "object",
         "type": "string"
        },
        {
         "name": "ΦΕΚ Διορισμού",
         "rawType": "object",
         "type": "unknown"
        },
        {
         "name": "Σε αναστολή",
         "rawType": "object",
         "type": "string"
        },
        {
         "name": "Κατηγορία Χρήστη",
         "rawType": "object",
         "type": "string"
        },
        {
         "name": "Παρ. 1, Άρ. 145, Ν. 4957/2022",
         "rawType": "object",
         "type": "string"
        },
        {
         "name": "Άδεια",
         "rawType": "object",
         "type": "unknown"
        },
        {
         "name": "Έναρξη άδειας",
         "rawType": "object",
         "type": "unknown"
        },
        {
         "name": "Λήξη άδειας",
         "rawType": "object",
         "type": "unknown"
        }
       ],
       "ref": "65d67d27-dd02-4aa0-b109-83ad75f0fb86",
       "rows": [
        [
         "0",
         "4200",
         "IGNACIO",
         "'-",
         "University Complutense of Madrid",
         null,
         null,
         "Καθηγητής",
         null,
         "ANAESTHESIOLOGY\nLABORATORY ANIMALS",
         null,
         "ΟΧΙ",
         "Καθηγητής Αλλοδαπής",
         "ΟΧΙ",
         null,
         null,
         null
        ],
        [
         "1",
         "1869",
         "ANDRE AARNINK",
         "AARNINK",
         "Wageningen UR",
         null,
         null,
         "Κύριος Ερευνητής",
         null,
         "LIVESTOCK ENVIRONMENT",
         null,
         "ΟΧΙ",
         "Ερευνητής Αλλοδαπής",
         "ΟΧΙ",
         null,
         null,
         null
        ],
        [
         "2",
         "5299",
         "LEON",
         "AARONS",
         "The University of Manchester",
         null,
         null,
         "Καθηγητής",
         null,
         "PHARMACY",
         null,
         "ΟΧΙ",
         "Καθηγητής Αλλοδαπής",
         "ΟΧΙ",
         null,
         null,
         null
        ],
        [
         "3",
         "4738",
         "ERNEST",
         "ABADAL",
         "University of Barcelona",
         null,
         null,
         "Καθηγητής",
         "http://bd.ub.edu/pub/abadal",
         "LIBRARY AND INFORMATION SCIENCE",
         null,
         "ΟΧΙ",
         "Καθηγητής Αλλοδαπής",
         "ΟΧΙ",
         null,
         null,
         null
        ],
        [
         "4",
         "10536",
         "GREGORY",
         "ABADIAS",
         "Institut Pprime ",
         null,
         null,
         "Καθηγητής",
         null,
         "MATERIALS SCIENCE,\nCONDENSED MATTER PHYSICS",
         null,
         "ΟΧΙ",
         "Καθηγητής Αλλοδαπής",
         "ΟΧΙ",
         null,
         null,
         null
        ]
       ],
       "shape": {
        "columns": 16,
        "rows": 5
       }
      },
      "text/html": [
       "<div>\n",
       "<style scoped>\n",
       "    .dataframe tbody tr th:only-of-type {\n",
       "        vertical-align: middle;\n",
       "    }\n",
       "\n",
       "    .dataframe tbody tr th {\n",
       "        vertical-align: top;\n",
       "    }\n",
       "\n",
       "    .dataframe thead th {\n",
       "        text-align: right;\n",
       "    }\n",
       "</style>\n",
       "<table border=\"1\" class=\"dataframe\">\n",
       "  <thead>\n",
       "    <tr style=\"text-align: right;\">\n",
       "      <th></th>\n",
       "      <th>Κωδικός Χρήστη</th>\n",
       "      <th>Όνομα</th>\n",
       "      <th>Επώνυμο</th>\n",
       "      <th>Φορέας</th>\n",
       "      <th>Σχολή</th>\n",
       "      <th>Τμήμα/Ινστιτούτο</th>\n",
       "      <th>Βαθμίδα</th>\n",
       "      <th>URL Βιογραφικού</th>\n",
       "      <th>Γνωστικό Αντικείμενο</th>\n",
       "      <th>ΦΕΚ Διορισμού</th>\n",
       "      <th>Σε αναστολή</th>\n",
       "      <th>Κατηγορία Χρήστη</th>\n",
       "      <th>Παρ. 1, Άρ. 145, Ν. 4957/2022</th>\n",
       "      <th>Άδεια</th>\n",
       "      <th>Έναρξη άδειας</th>\n",
       "      <th>Λήξη άδειας</th>\n",
       "    </tr>\n",
       "  </thead>\n",
       "  <tbody>\n",
       "    <tr>\n",
       "      <th>0</th>\n",
       "      <td>4200</td>\n",
       "      <td>IGNACIO</td>\n",
       "      <td>'-</td>\n",
       "      <td>University Complutense of Madrid</td>\n",
       "      <td>NaN</td>\n",
       "      <td>NaN</td>\n",
       "      <td>Καθηγητής</td>\n",
       "      <td>NaN</td>\n",
       "      <td>ANAESTHESIOLOGY\\nLABORATORY ANIMALS</td>\n",
       "      <td>NaN</td>\n",
       "      <td>ΟΧΙ</td>\n",
       "      <td>Καθηγητής Αλλοδαπής</td>\n",
       "      <td>ΟΧΙ</td>\n",
       "      <td>NaN</td>\n",
       "      <td>NaN</td>\n",
       "      <td>NaN</td>\n",
       "    </tr>\n",
       "    <tr>\n",
       "      <th>1</th>\n",
       "      <td>1869</td>\n",
       "      <td>ANDRE AARNINK</td>\n",
       "      <td>AARNINK</td>\n",
       "      <td>Wageningen UR</td>\n",
       "      <td>NaN</td>\n",
       "      <td>NaN</td>\n",
       "      <td>Κύριος Ερευνητής</td>\n",
       "      <td>NaN</td>\n",
       "      <td>LIVESTOCK ENVIRONMENT</td>\n",
       "      <td>NaN</td>\n",
       "      <td>ΟΧΙ</td>\n",
       "      <td>Ερευνητής Αλλοδαπής</td>\n",
       "      <td>ΟΧΙ</td>\n",
       "      <td>NaN</td>\n",
       "      <td>NaN</td>\n",
       "      <td>NaN</td>\n",
       "    </tr>\n",
       "    <tr>\n",
       "      <th>2</th>\n",
       "      <td>5299</td>\n",
       "      <td>LEON</td>\n",
       "      <td>AARONS</td>\n",
       "      <td>The University of Manchester</td>\n",
       "      <td>NaN</td>\n",
       "      <td>NaN</td>\n",
       "      <td>Καθηγητής</td>\n",
       "      <td>NaN</td>\n",
       "      <td>PHARMACY</td>\n",
       "      <td>NaN</td>\n",
       "      <td>ΟΧΙ</td>\n",
       "      <td>Καθηγητής Αλλοδαπής</td>\n",
       "      <td>ΟΧΙ</td>\n",
       "      <td>NaN</td>\n",
       "      <td>NaN</td>\n",
       "      <td>NaN</td>\n",
       "    </tr>\n",
       "    <tr>\n",
       "      <th>3</th>\n",
       "      <td>4738</td>\n",
       "      <td>ERNEST</td>\n",
       "      <td>ABADAL</td>\n",
       "      <td>University of Barcelona</td>\n",
       "      <td>NaN</td>\n",
       "      <td>NaN</td>\n",
       "      <td>Καθηγητής</td>\n",
       "      <td>http://bd.ub.edu/pub/abadal</td>\n",
       "      <td>LIBRARY AND INFORMATION SCIENCE</td>\n",
       "      <td>NaN</td>\n",
       "      <td>ΟΧΙ</td>\n",
       "      <td>Καθηγητής Αλλοδαπής</td>\n",
       "      <td>ΟΧΙ</td>\n",
       "      <td>NaN</td>\n",
       "      <td>NaN</td>\n",
       "      <td>NaN</td>\n",
       "    </tr>\n",
       "    <tr>\n",
       "      <th>4</th>\n",
       "      <td>10536</td>\n",
       "      <td>GREGORY</td>\n",
       "      <td>ABADIAS</td>\n",
       "      <td>Institut Pprime</td>\n",
       "      <td>NaN</td>\n",
       "      <td>NaN</td>\n",
       "      <td>Καθηγητής</td>\n",
       "      <td>NaN</td>\n",
       "      <td>MATERIALS SCIENCE,\\nCONDENSED MATTER PHYSICS</td>\n",
       "      <td>NaN</td>\n",
       "      <td>ΟΧΙ</td>\n",
       "      <td>Καθηγητής Αλλοδαπής</td>\n",
       "      <td>ΟΧΙ</td>\n",
       "      <td>NaN</td>\n",
       "      <td>NaN</td>\n",
       "      <td>NaN</td>\n",
       "    </tr>\n",
       "  </tbody>\n",
       "</table>\n",
       "</div>"
      ],
      "text/plain": [
       "   Κωδικός Χρήστη          Όνομα  Επώνυμο                            Φορέας  \\\n",
       "0            4200        IGNACIO       '-  University Complutense of Madrid   \n",
       "1            1869  ANDRE AARNINK  AARNINK                     Wageningen UR   \n",
       "2            5299           LEON   AARONS      The University of Manchester   \n",
       "3            4738         ERNEST   ABADAL           University of Barcelona   \n",
       "4           10536        GREGORY  ABADIAS                  Institut Pprime    \n",
       "\n",
       "  Σχολή Τμήμα/Ινστιτούτο           Βαθμίδα              URL Βιογραφικού  \\\n",
       "0   NaN              NaN         Καθηγητής                          NaN   \n",
       "1   NaN              NaN  Κύριος Ερευνητής                          NaN   \n",
       "2   NaN              NaN         Καθηγητής                          NaN   \n",
       "3   NaN              NaN         Καθηγητής  http://bd.ub.edu/pub/abadal   \n",
       "4   NaN              NaN         Καθηγητής                          NaN   \n",
       "\n",
       "                           Γνωστικό Αντικείμενο ΦΕΚ Διορισμού Σε αναστολή  \\\n",
       "0           ANAESTHESIOLOGY\\nLABORATORY ANIMALS           NaN         ΟΧΙ   \n",
       "1                         LIVESTOCK ENVIRONMENT           NaN         ΟΧΙ   \n",
       "2                                      PHARMACY           NaN         ΟΧΙ   \n",
       "3               LIBRARY AND INFORMATION SCIENCE           NaN         ΟΧΙ   \n",
       "4  MATERIALS SCIENCE,\\nCONDENSED MATTER PHYSICS           NaN         ΟΧΙ   \n",
       "\n",
       "      Κατηγορία Χρήστη Παρ. 1, Άρ. 145, Ν. 4957/2022 Άδεια Έναρξη άδειας  \\\n",
       "0  Καθηγητής Αλλοδαπής                           ΟΧΙ   NaN           NaN   \n",
       "1  Ερευνητής Αλλοδαπής                           ΟΧΙ   NaN           NaN   \n",
       "2  Καθηγητής Αλλοδαπής                           ΟΧΙ   NaN           NaN   \n",
       "3  Καθηγητής Αλλοδαπής                           ΟΧΙ   NaN           NaN   \n",
       "4  Καθηγητής Αλλοδαπής                           ΟΧΙ   NaN           NaN   \n",
       "\n",
       "  Λήξη άδειας  \n",
       "0         NaN  \n",
       "1         NaN  \n",
       "2         NaN  \n",
       "3         NaN  \n",
       "4         NaN  "
      ]
     },
     "execution_count": 9,
     "metadata": {},
     "output_type": "execute_result"
    }
   ],
   "source": [
    "df_eklektores2025 = pd.read_excel('../../files/mitroa/professors_export_202510141042.xlsx', sheet_name='Professors')\n",
    "df_eklektores2025.head()"
   ]
  },
  {
   "cell_type": "code",
   "execution_count": 11,
   "id": "173353a8",
   "metadata": {},
   "outputs": [
    {
     "data": {
      "text/plain": [
       "19328"
      ]
     },
     "execution_count": 11,
     "metadata": {},
     "output_type": "execute_result"
    }
   ],
   "source": [
    "unique_eklektores2025 = list(df_eklektores2025['Κωδικός Χρήστη'].unique().tolist())\n",
    "len(unique_eklektores2025)"
   ]
  },
  {
   "cell_type": "code",
   "execution_count": 14,
   "id": "5a3d2590",
   "metadata": {},
   "outputs": [
    {
     "name": "stdout",
     "output_type": "stream",
     "text": [
      "Found 52 worksheets:\n"
     ]
    }
   ],
   "source": [
    "# Read the Excel file and get F6 value from each worksheet\n",
    "excel_file = pd.ExcelFile('../../files/mitroa/Μητρώο Εξωτερικό 2024-12 ver4.xlsx')\n",
    "f6_dict = {}\n",
    "\n",
    "for sheet_name in excel_file.sheet_names:\n",
    "    df_sheet = pd.read_excel(excel_file, sheet_name=sheet_name, header=None)\n",
    "    # Get value from cell F6 (row 5, column 5 in 0-indexed)\n",
    "    if len(df_sheet) > 5 and len(df_sheet.columns) > 5:\n",
    "        f6_value = df_sheet.iloc[5, 5]\n",
    "        f6_dict[sheet_name] = f6_value\n",
    "\n",
    "print(f\"Found {len(f6_dict)} worksheets:\")\n",
    "# f6_dict"
   ]
  },
  {
   "cell_type": "code",
   "execution_count": 17,
   "id": "69cd260c",
   "metadata": {},
   "outputs": [
    {
     "name": "stdout",
     "output_type": "stream",
     "text": [
      "Loaded 52 dataframes:\n"
     ]
    },
    {
     "data": {
      "application/vnd.microsoft.datawrangler.viewer.v0+json": {
       "columns": [
        {
         "name": "index",
         "rawType": "int64",
         "type": "integer"
        },
        {
         "name": "α/α",
         "rawType": "int64",
         "type": "integer"
        },
        {
         "name": "Χαρακτη-ρισμός",
         "rawType": "object",
         "type": "string"
        },
        {
         "name": "Κωδικός Χρήστη",
         "rawType": "int64",
         "type": "integer"
        },
        {
         "name": "Όνομα",
         "rawType": "object",
         "type": "string"
        },
        {
         "name": "Επώνυμο",
         "rawType": "object",
         "type": "string"
        },
        {
         "name": "Κατηγορία Χρήστη",
         "rawType": "object",
         "type": "string"
        },
        {
         "name": "Φορέας Χρήστη",
         "rawType": "object",
         "type": "string"
        },
        {
         "name": "Σχολή Χρήστη",
         "rawType": "object",
         "type": "string"
        },
        {
         "name": "Τμήμα/Ινστιτούτο Χρήστη",
         "rawType": "object",
         "type": "string"
        },
        {
         "name": "ΦΕΚ Διορισμού",
         "rawType": "object",
         "type": "string"
        },
        {
         "name": "Γνωστικό Αντικείμενο",
         "rawType": "object",
         "type": "string"
        },
        {
         "name": "Βαθμίδα",
         "rawType": "object",
         "type": "string"
        }
       ],
       "ref": "6b580baf-0678-4ec6-9004-05150704e218",
       "rows": [
        [
         "0",
         "1",
         "ΙΔΙΟΥ",
         "25804",
         "ΕΛΕΥΘΕΡΙΟΣ",
         "ΑΝΑΣΤΑΣΙΟΥ",
         "Ημεδαπής",
         "ΑΡΙΣΤΟΤΕΛΕΙΟ ΠΑΝΕΠΙΣΤΗΜΙΟ ΘΕΣ/ΝΙΚΗΣ",
         "ΠΟΛΥΤΕΧΝΙΚΗ",
         "ΠΟΛΙΤΙΚΩΝ ΜΗΧΑΝΙΚΩΝ",
         "Γ’ 1247/26.05.2022",
         "«Τεχνολογία Σκυροδέματος. Ανάπτυξη Σκυροδέματος για Αειφόρες Κατασκευές»",
         "Αναπληρωτής Καθηγητής"
        ],
        [
         "1",
         "2",
         "ΙΔΙΟΥ",
         "17939",
         "ΝΙΚΟΛΑΟΣ",
         "ΑΡΑΒΑΣ",
         "Ημεδαπής",
         "ΠΑΝΕΠΙΣΤΗΜΙΟ ΘΕΣΣΑΛΙΑΣ",
         "ΠΟΛΥΤΕΧΝΙΚΗ",
         "ΜΗΧΑΝΟΛΟΓΩΝ ΜΗΧΑΝΙΚΩΝ",
         "145/23.8.1996 /τ.Ν.Π.Δ.Δ",
         "ΥΠΟΛΟΓΙΣΤΙΚΗ ΜΗΧΑΝΙΚΗ ΤΩΝ ΚΑΤΑΣΚΕΥΩΝ",
         "Καθηγητής"
        ],
        [
         "2",
         "3",
         "ΙΔΙΟΥ",
         "19760",
         "ΣΤΑΥΡΟΣ",
         "ΚΟΥΡΚΟΥΛΗΣ",
         "Ημεδαπής",
         "ΕΘΝΙΚΟ ΜΕΤΣΟΒΙΟ ΠΟΛΥΤΕΧΝΕΙΟ",
         "ΕΦΑΡΜΟΣΜΕΝΩΝ ΜΑΘΗΜΑΤΙΚΩΝ ΚΑΙ ΦΥΣΙΚΩΝ ΕΠΙΣΤΗΜΩΝ",
         "ΕΦΑΡΜΟΣΜΕΝΩΝ ΜΑΘΗΜΑΤΙΚΩΝ ΚΑΙ ΦΥΣΙΚΩΝ ΕΠΙΣΤΗΜΩΝ",
         "244/24-03-15τ.Γ΄",
         "ΠΕΙΡΑΜΑΤΙΚΗ ΜΗΧΑΝΙΚΗ ΤΟΥ ΠΑΡΑΜΟΡΦΩΣΙΜΟΥ ΣΤΕΡΕΟΥ",
         "Καθηγητής"
        ],
        [
         "3",
         "4",
         "ΙΔΙΟΥ",
         "1588",
         "ΑΛΚΙΒΙΑΔΗΣ",
         "ΠΑΪΠΕΤΗΣ",
         "Ημεδαπής",
         "ΠΑΝΕΠΙΣΤΗΜΙΟ ΙΩΑΝΝΙΝΩΝ",
         "ΠΟΛΥΤΕΧΝΙΚΗ",
         "ΜΗΧΑΝΙΚΩΝ ΕΠΙΣΤΗΜΗΣ ΥΛΙΚΩΝ",
         "991-5/9/2013, τ. Γ'",
         "ΠΕΙΡΑΜΑΤΙΚΗ ΜΗΧΑΝΙΚΗ ΣΥΜΠΕΡΙΦΟΡΑ ΚΑΙ ΜΗ ΚΑΤΑΣΤΡΟΦΙΚΟΣ ΕΛΕΓΧΟΣ ΣΥΝΘΕΤΩΝ ΥΛΙΚΩΝ",
         "Καθηγητής"
        ],
        [
         "4",
         "5",
         "ΙΔΙΟΥ",
         "23150",
         "ΧΡΗΣΤΟΣ",
         "ΠΑΠΑΚΩΝΣΤΑΝΤΙΝΟΥ",
         "Ημεδαπής",
         "ΠΑΝΕΠΙΣΤΗΜΙΟ ΘΕΣΣΑΛΙΑΣ",
         "ΠΟΛΥΤΕΧΝΙΚΗ",
         "ΠΟΛΙΤΙΚΩΝ ΜΗΧΑΝΙΚΩΝ",
         "Γ 1333 - 14.06.2021",
         "Πειραματική Μηχανική Δομικών Υλικών",
         "Αναπληρωτής Καθηγητής"
        ]
       ],
       "shape": {
        "columns": 12,
        "rows": 5
       }
      },
      "text/html": [
       "<div>\n",
       "<style scoped>\n",
       "    .dataframe tbody tr th:only-of-type {\n",
       "        vertical-align: middle;\n",
       "    }\n",
       "\n",
       "    .dataframe tbody tr th {\n",
       "        vertical-align: top;\n",
       "    }\n",
       "\n",
       "    .dataframe thead th {\n",
       "        text-align: right;\n",
       "    }\n",
       "</style>\n",
       "<table border=\"1\" class=\"dataframe\">\n",
       "  <thead>\n",
       "    <tr style=\"text-align: right;\">\n",
       "      <th></th>\n",
       "      <th>α/α</th>\n",
       "      <th>Χαρακτη-ρισμός</th>\n",
       "      <th>Κωδικός Χρήστη</th>\n",
       "      <th>Όνομα</th>\n",
       "      <th>Επώνυμο</th>\n",
       "      <th>Κατηγορία Χρήστη</th>\n",
       "      <th>Φορέας Χρήστη</th>\n",
       "      <th>Σχολή Χρήστη</th>\n",
       "      <th>Τμήμα/Ινστιτούτο Χρήστη</th>\n",
       "      <th>ΦΕΚ Διορισμού</th>\n",
       "      <th>Γνωστικό Αντικείμενο</th>\n",
       "      <th>Βαθμίδα</th>\n",
       "    </tr>\n",
       "  </thead>\n",
       "  <tbody>\n",
       "    <tr>\n",
       "      <th>0</th>\n",
       "      <td>1</td>\n",
       "      <td>ΙΔΙΟΥ</td>\n",
       "      <td>25804</td>\n",
       "      <td>ΕΛΕΥΘΕΡΙΟΣ</td>\n",
       "      <td>ΑΝΑΣΤΑΣΙΟΥ</td>\n",
       "      <td>Ημεδαπής</td>\n",
       "      <td>ΑΡΙΣΤΟΤΕΛΕΙΟ ΠΑΝΕΠΙΣΤΗΜΙΟ ΘΕΣ/ΝΙΚΗΣ</td>\n",
       "      <td>ΠΟΛΥΤΕΧΝΙΚΗ</td>\n",
       "      <td>ΠΟΛΙΤΙΚΩΝ ΜΗΧΑΝΙΚΩΝ</td>\n",
       "      <td>Γ’ 1247/26.05.2022</td>\n",
       "      <td>«Τεχνολογία Σκυροδέματος. Ανάπτυξη Σκυροδέματο...</td>\n",
       "      <td>Αναπληρωτής Καθηγητής</td>\n",
       "    </tr>\n",
       "    <tr>\n",
       "      <th>1</th>\n",
       "      <td>2</td>\n",
       "      <td>ΙΔΙΟΥ</td>\n",
       "      <td>17939</td>\n",
       "      <td>ΝΙΚΟΛΑΟΣ</td>\n",
       "      <td>ΑΡΑΒΑΣ</td>\n",
       "      <td>Ημεδαπής</td>\n",
       "      <td>ΠΑΝΕΠΙΣΤΗΜΙΟ ΘΕΣΣΑΛΙΑΣ</td>\n",
       "      <td>ΠΟΛΥΤΕΧΝΙΚΗ</td>\n",
       "      <td>ΜΗΧΑΝΟΛΟΓΩΝ ΜΗΧΑΝΙΚΩΝ</td>\n",
       "      <td>145/23.8.1996 /τ.Ν.Π.Δ.Δ</td>\n",
       "      <td>ΥΠΟΛΟΓΙΣΤΙΚΗ ΜΗΧΑΝΙΚΗ ΤΩΝ ΚΑΤΑΣΚΕΥΩΝ</td>\n",
       "      <td>Καθηγητής</td>\n",
       "    </tr>\n",
       "    <tr>\n",
       "      <th>2</th>\n",
       "      <td>3</td>\n",
       "      <td>ΙΔΙΟΥ</td>\n",
       "      <td>19760</td>\n",
       "      <td>ΣΤΑΥΡΟΣ</td>\n",
       "      <td>ΚΟΥΡΚΟΥΛΗΣ</td>\n",
       "      <td>Ημεδαπής</td>\n",
       "      <td>ΕΘΝΙΚΟ ΜΕΤΣΟΒΙΟ ΠΟΛΥΤΕΧΝΕΙΟ</td>\n",
       "      <td>ΕΦΑΡΜΟΣΜΕΝΩΝ ΜΑΘΗΜΑΤΙΚΩΝ ΚΑΙ ΦΥΣΙΚΩΝ ΕΠΙΣΤΗΜΩΝ</td>\n",
       "      <td>ΕΦΑΡΜΟΣΜΕΝΩΝ ΜΑΘΗΜΑΤΙΚΩΝ ΚΑΙ ΦΥΣΙΚΩΝ ΕΠΙΣΤΗΜΩΝ</td>\n",
       "      <td>244/24-03-15τ.Γ΄</td>\n",
       "      <td>ΠΕΙΡΑΜΑΤΙΚΗ ΜΗΧΑΝΙΚΗ ΤΟΥ ΠΑΡΑΜΟΡΦΩΣΙΜΟΥ ΣΤΕΡΕΟΥ</td>\n",
       "      <td>Καθηγητής</td>\n",
       "    </tr>\n",
       "    <tr>\n",
       "      <th>3</th>\n",
       "      <td>4</td>\n",
       "      <td>ΙΔΙΟΥ</td>\n",
       "      <td>1588</td>\n",
       "      <td>ΑΛΚΙΒΙΑΔΗΣ</td>\n",
       "      <td>ΠΑΪΠΕΤΗΣ</td>\n",
       "      <td>Ημεδαπής</td>\n",
       "      <td>ΠΑΝΕΠΙΣΤΗΜΙΟ ΙΩΑΝΝΙΝΩΝ</td>\n",
       "      <td>ΠΟΛΥΤΕΧΝΙΚΗ</td>\n",
       "      <td>ΜΗΧΑΝΙΚΩΝ ΕΠΙΣΤΗΜΗΣ ΥΛΙΚΩΝ</td>\n",
       "      <td>991-5/9/2013, τ. Γ'</td>\n",
       "      <td>ΠΕΙΡΑΜΑΤΙΚΗ ΜΗΧΑΝΙΚΗ ΣΥΜΠΕΡΙΦΟΡΑ ΚΑΙ ΜΗ ΚΑΤΑΣΤ...</td>\n",
       "      <td>Καθηγητής</td>\n",
       "    </tr>\n",
       "    <tr>\n",
       "      <th>4</th>\n",
       "      <td>5</td>\n",
       "      <td>ΙΔΙΟΥ</td>\n",
       "      <td>23150</td>\n",
       "      <td>ΧΡΗΣΤΟΣ</td>\n",
       "      <td>ΠΑΠΑΚΩΝΣΤΑΝΤΙΝΟΥ</td>\n",
       "      <td>Ημεδαπής</td>\n",
       "      <td>ΠΑΝΕΠΙΣΤΗΜΙΟ ΘΕΣΣΑΛΙΑΣ</td>\n",
       "      <td>ΠΟΛΥΤΕΧΝΙΚΗ</td>\n",
       "      <td>ΠΟΛΙΤΙΚΩΝ ΜΗΧΑΝΙΚΩΝ</td>\n",
       "      <td>Γ 1333 - 14.06.2021</td>\n",
       "      <td>Πειραματική Μηχανική Δομικών Υλικών</td>\n",
       "      <td>Αναπληρωτής Καθηγητής</td>\n",
       "    </tr>\n",
       "  </tbody>\n",
       "</table>\n",
       "</div>"
      ],
      "text/plain": [
       "   α/α Χαρακτη-ρισμός  Κωδικός Χρήστη       Όνομα           Επώνυμο  \\\n",
       "0    1          ΙΔΙΟΥ           25804  ΕΛΕΥΘΕΡΙΟΣ        ΑΝΑΣΤΑΣΙΟΥ   \n",
       "1    2          ΙΔΙΟΥ           17939    ΝΙΚΟΛΑΟΣ            ΑΡΑΒΑΣ   \n",
       "2    3          ΙΔΙΟΥ           19760     ΣΤΑΥΡΟΣ        ΚΟΥΡΚΟΥΛΗΣ   \n",
       "3    4          ΙΔΙΟΥ            1588  ΑΛΚΙΒΙΑΔΗΣ          ΠΑΪΠΕΤΗΣ   \n",
       "4    5          ΙΔΙΟΥ           23150     ΧΡΗΣΤΟΣ  ΠΑΠΑΚΩΝΣΤΑΝΤΙΝΟΥ   \n",
       "\n",
       "  Κατηγορία Χρήστη                        Φορέας Χρήστη  \\\n",
       "0         Ημεδαπής  ΑΡΙΣΤΟΤΕΛΕΙΟ ΠΑΝΕΠΙΣΤΗΜΙΟ ΘΕΣ/ΝΙΚΗΣ   \n",
       "1         Ημεδαπής               ΠΑΝΕΠΙΣΤΗΜΙΟ ΘΕΣΣΑΛΙΑΣ   \n",
       "2         Ημεδαπής          ΕΘΝΙΚΟ ΜΕΤΣΟΒΙΟ ΠΟΛΥΤΕΧΝΕΙΟ   \n",
       "3         Ημεδαπής               ΠΑΝΕΠΙΣΤΗΜΙΟ ΙΩΑΝΝΙΝΩΝ   \n",
       "4         Ημεδαπής               ΠΑΝΕΠΙΣΤΗΜΙΟ ΘΕΣΣΑΛΙΑΣ   \n",
       "\n",
       "                                     Σχολή Χρήστη  \\\n",
       "0                                     ΠΟΛΥΤΕΧΝΙΚΗ   \n",
       "1                                     ΠΟΛΥΤΕΧΝΙΚΗ   \n",
       "2  ΕΦΑΡΜΟΣΜΕΝΩΝ ΜΑΘΗΜΑΤΙΚΩΝ ΚΑΙ ΦΥΣΙΚΩΝ ΕΠΙΣΤΗΜΩΝ   \n",
       "3                                     ΠΟΛΥΤΕΧΝΙΚΗ   \n",
       "4                                     ΠΟΛΥΤΕΧΝΙΚΗ   \n",
       "\n",
       "                          Τμήμα/Ινστιτούτο Χρήστη             ΦΕΚ Διορισμού  \\\n",
       "0                             ΠΟΛΙΤΙΚΩΝ ΜΗΧΑΝΙΚΩΝ        Γ’ 1247/26.05.2022   \n",
       "1                           ΜΗΧΑΝΟΛΟΓΩΝ ΜΗΧΑΝΙΚΩΝ  145/23.8.1996 /τ.Ν.Π.Δ.Δ   \n",
       "2  ΕΦΑΡΜΟΣΜΕΝΩΝ ΜΑΘΗΜΑΤΙΚΩΝ ΚΑΙ ΦΥΣΙΚΩΝ ΕΠΙΣΤΗΜΩΝ          244/24-03-15τ.Γ΄   \n",
       "3                      ΜΗΧΑΝΙΚΩΝ ΕΠΙΣΤΗΜΗΣ ΥΛΙΚΩΝ       991-5/9/2013, τ. Γ'   \n",
       "4                             ΠΟΛΙΤΙΚΩΝ ΜΗΧΑΝΙΚΩΝ       Γ 1333 - 14.06.2021   \n",
       "\n",
       "                                Γνωστικό Αντικείμενο                Βαθμίδα  \n",
       "0  «Τεχνολογία Σκυροδέματος. Ανάπτυξη Σκυροδέματο...  Αναπληρωτής Καθηγητής  \n",
       "1               ΥΠΟΛΟΓΙΣΤΙΚΗ ΜΗΧΑΝΙΚΗ ΤΩΝ ΚΑΤΑΣΚΕΥΩΝ              Καθηγητής  \n",
       "2    ΠΕΙΡΑΜΑΤΙΚΗ ΜΗΧΑΝΙΚΗ ΤΟΥ ΠΑΡΑΜΟΡΦΩΣΙΜΟΥ ΣΤΕΡΕΟΥ              Καθηγητής  \n",
       "3  ΠΕΙΡΑΜΑΤΙΚΗ ΜΗΧΑΝΙΚΗ ΣΥΜΠΕΡΙΦΟΡΑ ΚΑΙ ΜΗ ΚΑΤΑΣΤ...              Καθηγητής  \n",
       "4                Πειραματική Μηχανική Δομικών Υλικών  Αναπληρωτής Καθηγητής  "
      ]
     },
     "execution_count": 17,
     "metadata": {},
     "output_type": "execute_result"
    }
   ],
   "source": [
    "# Read tables from row 9 onwards (columns A:L) for each worksheet\n",
    "df_dict = {}\n",
    "\n",
    "for sheet_name in excel_file.sheet_names:\n",
    "    # Read from row 9 onwards, columns A:L (0:12)\n",
    "    df_sheet = pd.read_excel(excel_file, sheet_name=sheet_name, header=8, usecols='A:L')\n",
    "    df_dict[sheet_name] = df_sheet\n",
    "\n",
    "print(f\"Loaded {len(df_dict)} dataframes:\")\n",
    "# for sheet_name, df in df_dict.items():\n",
    "#     print(f\"  {sheet_name}: {df.shape[0]} rows, {df.shape[1]} columns\")\n",
    "    \n",
    "df_dict['555'].head()"
   ]
  },
  {
   "cell_type": "code",
   "execution_count": null,
   "id": "7cc06b02",
   "metadata": {},
   "outputs": [],
   "source": []
  }
 ],
 "metadata": {
  "kernelspec": {
   "display_name": "civil-ihu-pyappz (3.12.12)",
   "language": "python",
   "name": "python3"
  },
  "language_info": {
   "codemirror_mode": {
    "name": "ipython",
    "version": 3
   },
   "file_extension": ".py",
   "mimetype": "text/x-python",
   "name": "python",
   "nbconvert_exporter": "python",
   "pygments_lexer": "ipython3",
   "version": "3.12.12"
  }
 },
 "nbformat": 4,
 "nbformat_minor": 5
}
