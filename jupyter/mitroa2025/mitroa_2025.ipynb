{
 "cells": [
  {
   "cell_type": "code",
   "execution_count": 5,
   "id": "13e872b4",
   "metadata": {},
   "outputs": [],
   "source": [
    "import pandas as pd\n",
    "from dataclasses import dataclass\n",
    "from pydantic import BaseModel, Field\n",
    "from pprint import pprint\n",
    "from pathlib import Path"
   ]
  },
  {
   "cell_type": "code",
   "execution_count": 6,
   "id": "0ffb8961",
   "metadata": {},
   "outputs": [],
   "source": [
    "class ScientificFieldInfo(BaseModel):\n",
    "    code: int\n",
    "    field_name: str\n",
    "    domain_name: str\n",
    "    eklektores_idiou: list[int] = Field(default_factory=list)\n",
    "    eklektores_synafous: list[int] = Field(default_factory=list)"
   ]
  },
  {
   "cell_type": "code",
   "execution_count": 7,
   "id": "40d834d4",
   "metadata": {},
   "outputs": [],
   "source": [
    "@dataclass\n",
    "class ScientificField:\n",
    "    info: ScientificFieldInfo\n",
    "    table: pd.DataFrame = None\n",
    "\n",
    "    def export_ino_to_json(self, filepath: Path):\n",
    "        with open(filepath, 'w', encoding='utf-8') as f:\n",
    "            f.write(self.info.model_dump_json(indent=4, ensure_ascii=\n",
    "    \n",
    "False))"
   ]
  },
  {
   "cell_type": "code",
   "execution_count": 10,
   "id": "7bb48a36",
   "metadata": {},
   "outputs": [],
   "source": [
    "def scientific_field_info_from_excel(\n",
    "   excel_file: pd.ExcelFile,\n",
    "    field_code: int\n",
    "    ) -> ScientificFieldInfo:\n",
    "\n",
    "    df_sheet = pd.read_excel(excel_file, sheet_name=str(field_code), header=None)\n",
    "    # Get value from cell F6 (row 5, column 5 in 0-indexed)\n",
    "    if len(df_sheet) > 5 and len(df_sheet.columns) > 10:\n",
    "        _code = field_code\n",
    "        _field = df_sheet.iat[5, 5]      # F6\n",
    "        _domain = df_sheet.iat[5, 10]    # K6\n",
    "\n",
    "    sfi = ScientificFieldInfo(\n",
    "    code=field_code, \n",
    "    field_name=_field, \n",
    "    domain_name=_domain)\n",
    "\n",
    "    return sfi"
   ]
  },
  {
   "cell_type": "code",
   "execution_count": 11,
   "id": "1c650d54",
   "metadata": {},
   "outputs": [],
   "source": [
    "def scientific_field_data_from_excel(\n",
    "   excel_file: pd.ExcelFile,\n",
    "    field_code: int\n",
    "    ) -> pd.DataFrame:\n",
    "\n",
    "    return pd.read_excel(excel_file, sheet_name=str(field_code), header=8, usecols='A:L')\n"
   ]
  },
  {
   "cell_type": "code",
   "execution_count": 12,
   "id": "65737cf4",
   "metadata": {},
   "outputs": [],
   "source": [
    "def eklektores_from_dataframe(\n",
    "    df: pd.DataFrame\n",
    "    ) -> tuple[list[int], list[int]]:\n",
    "\n",
    "    idiou_list = df[df['Χαρακτη-ρισμός'] == 'ΙΔΙΟΥ']['Κωδικός Χρήστη'].tolist()\n",
    "    synafous_list = df[df['Χαρακτη-ρισμός'] == 'ΣΥΝΑΦΟΥΣ']['Κωδικός Χρήστη'].tolist()\n",
    "\n",
    "    return idiou_list, synafous_list"
   ]
  },
  {
   "cell_type": "code",
   "execution_count": 13,
   "id": "18683b78",
   "metadata": {},
   "outputs": [],
   "source": [
    "def get_full_scientific_fields_from_excel(excel_filename: str) -> dict[int, ScientificField]:\n",
    "\n",
    "    fields: dict[int, ScientificField] = {}\n",
    "\n",
    "    excel_file: pd.ExcelFile = pd.ExcelFile(excel_filename)\n",
    "\n",
    "    field_codes: list[int] = [int(x) for x in excel_file.sheet_names]\n",
    "\n",
    "    for field_code in field_codes:\n",
    "        sfi = scientific_field_info_from_excel(excel_file, field_code)\n",
    "        table = scientific_field_data_from_excel(excel_file, field_code)\n",
    "\n",
    "        sfi.eklektores_idiou, sfi.eklektores_synafous = eklektores_from_dataframe(table)\n",
    "\n",
    "        sf = ScientificField(info=sfi, table=table)\n",
    "\n",
    "        fields[field_code] = sf\n",
    "\n",
    "    return fields"
   ]
  },
  {
   "cell_type": "markdown",
   "id": "fc607756",
   "metadata": {},
   "source": [
    "## Load data"
   ]
  },
  {
   "cell_type": "markdown",
   "id": "ad648128",
   "metadata": {},
   "source": [
    "### Σύνολο εκλεκτόρων\n",
    "Διαβάζω τα πλήρη αρχεία με το σύνολο των εκλεκτόρων που έχουν κατέβει σε excel\n",
    "Νωρίτερα τα έχω μετατρέψει σε feather (σε άλλο ipynb) για να τα φορτώνω ταχύτερα"
   ]
  },
  {
   "cell_type": "code",
   "execution_count": 14,
   "id": "593876f8",
   "metadata": {},
   "outputs": [],
   "source": [
    "df_eklektores2024 = pd.read_feather(Path('../../files/mitroa/professors_export_202412111752.feather'))\n",
    "df_eklektores2025 = pd.read_feather(Path('../../files/mitroa/professors_export_202510141042.feather'))"
   ]
  },
  {
   "cell_type": "code",
   "execution_count": 15,
   "id": "f89284a2",
   "metadata": {},
   "outputs": [
    {
     "name": "stdout",
     "output_type": "stream",
     "text": [
      "18896\n",
      "19328\n"
     ]
    }
   ],
   "source": [
    "df_eklektores_previous = df_eklektores2024\n",
    "df_eklektores_current = df_eklektores2025\n",
    "# df_eklektores_previous\n",
    "# df_eklektores_current\n",
    "unique_eklektores_previous = list(df_eklektores_previous['Κωδικός Χρήστη'].unique().tolist())\n",
    "unique_eklektores_current = list(df_eklektores_current['Κωδικός Χρήστη'].unique().tolist())\n",
    "print(len(unique_eklektores_previous))\n",
    "print(len(unique_eklektores_current))"
   ]
  },
  {
   "cell_type": "markdown",
   "id": "32ee02e8",
   "metadata": {},
   "source": [
    "### Γνωστικά αντικείμενα"
   ]
  },
  {
   "cell_type": "markdown",
   "id": "60d4fe75",
   "metadata": {},
   "source": [
    "#### Εισαγωγή από τα αρχεία excel\n",
    "\n",
    "Διάβασμα γνωστικών αντικειμένων (field) και επιστημονικών πεδίων (domain) \\\n",
    "Το κάνω από προγενέστερο αρχείο excel με τα μητρώα των εξωτερικών εκλεκτόρων\n",
    "\n",
    "Στη συνέχεια σώζω σε json αρχεία \\\n",
    "TODO: στην πορεία να το κοιτάξω να φορτώνω τα δεδομένα είτε από τα excel, είτε από τα json"
   ]
  },
  {
   "cell_type": "code",
   "execution_count": 24,
   "id": "7a25ca95",
   "metadata": {},
   "outputs": [],
   "source": [
    "excel_filename_2024 = '../../files/mitroa/Μητρώο Εξωτερικό 2024-12 ver4.xlsx'\n",
    "fields_2024: dict[int, ScientificField] = get_full_scientific_fields_from_excel(excel_filename_2024)\n",
    "\n",
    "excel_filename_2025 = '../../files/mitroa/Μητρώο Εξωτερικό 2025-10 ver3.xlsx'\n",
    "fields_2025: dict[int, ScientificField] = get_full_scientific_fields_from_excel(excel_filename_2025)"
   ]
  },
  {
   "cell_type": "markdown",
   "id": "b5d647d8",
   "metadata": {},
   "source": [
    "#### Export json files"
   ]
  },
  {
   "cell_type": "code",
   "execution_count": 17,
   "id": "222b9ce3",
   "metadata": {},
   "outputs": [],
   "source": [
    "export_json_files = False"
   ]
  },
  {
   "cell_type": "code",
   "execution_count": 18,
   "id": "92fc0813",
   "metadata": {},
   "outputs": [
    {
     "name": "stdout",
     "output_type": "stream",
     "text": [
      "ScientificFieldInfo(code=555, field_name='Πειραματική Μηχανική Δομικών Υλικών και Δομικών Στοιχείων', domain_name='Δομική Μηχανική', eklektores_idiou=[25804, 17939, 19760, 1588, 23150, 18206, 343, 18916], eklektores_synafous=[6099, 10800, 9503, 4764, 17547, 28213, 16057, 2910, 16998, 31610, 1089, 9772, 22815, 9739, 4538, 7834, 6223])\n",
      "ScientificFieldInfo(code=555, field_name='Πειραματική Μηχανική Δομικών Υλικών και Δομικών Στοιχείων', domain_name='Δομική Μηχανική', eklektores_idiou=[25804, 2643, 15530, 3193, 19760, 42218, 1588, 23150, 18206, 343, 19441, 18916], eklektores_synafous=[39667, 6099, 10800, 9503, 4764, 17547, 28213, 16057, 2910, 16998, 31610, 1089, 9772, 22815, 9739, 4538, 7834, 6223])\n"
     ]
    }
   ],
   "source": [
    "field_code = 555\n",
    "\n",
    "pprint(fields_2024[field_code].info)\n",
    "pprint(fields_2025[field_code].info)\n",
    "if export_json_files:\n",
    "    fields_2024[field_code].export_info_to_json(f'test-{field_code}-info-2024.json')\n",
    "    fields_2025[field_code].export_info_to_json(f'test-{field_code}-info-2025.json')"
   ]
  },
  {
   "cell_type": "code",
   "execution_count": 19,
   "id": "fa2e7954",
   "metadata": {},
   "outputs": [],
   "source": [
    "if export_json_files:\n",
    "    for field_code in fields_2024.keys():\n",
    "        fields_2024[field_code].export_info_to_json(f'../../files/mitroa/json2024/{field_code}-info-2024.json')"
   ]
  },
  {
   "cell_type": "code",
   "execution_count": 20,
   "id": "3105f20c",
   "metadata": {},
   "outputs": [],
   "source": [
    "if export_json_files:\n",
    "    for field_code in fields_2025.keys():\n",
    "        fields_2025[field_code].export_info_to_json(f'../../files/mitroa/json2025/{field_code}-info-2025.json')"
   ]
  },
  {
   "cell_type": "markdown",
   "id": "e254d045",
   "metadata": {},
   "source": [
    "## Έλεγχοι"
   ]
  },
  {
   "cell_type": "code",
   "execution_count": 21,
   "id": "10f407db",
   "metadata": {},
   "outputs": [
    {
     "name": "stdout",
     "output_type": "stream",
     "text": [
      "[25804, 17939, 19760, 1588, 23150, 18206, 343, 18916]\n",
      "[6099, 10800, 9503, 4764, 17547, 28213, 16057, 2910, 16998, 31610, 1089, 9772, 22815, 9739, 4538, 7834, 6223]\n"
     ]
    }
   ],
   "source": [
    "field_code = 555\n",
    "print(fields_2024[field_code].info.eklektores_idiou)\n",
    "print(fields_2024[field_code].info.eklektores_synafous)"
   ]
  },
  {
   "cell_type": "code",
   "execution_count": 25,
   "id": "49f421d5",
   "metadata": {},
   "outputs": [],
   "source": [
    "def get_all_eklektores_in_year(year_fields: dict[int, ScientificField]) -> list:\n",
    "\n",
    "    field_codes = list(year_fields.keys())\n",
    "\n",
    "    # Collect all eklektores from all fields\n",
    "    all_eklektores = []\n",
    "    for field_code in field_codes:\n",
    "        all_eklektores.extend(year_fields[field_code].info.eklektores_idiou)\n",
    "        all_eklektores.extend(year_fields[field_code].info.eklektores_synafous)\n",
    "\n",
    "    # Get unique values\n",
    "    unique_eklektores = list(set(all_eklektores))\n",
    "    print(f\"Total unique eklektores: {len(unique_eklektores)}\")\n",
    "    return unique_eklektores"
   ]
  },
  {
   "cell_type": "code",
   "execution_count": 28,
   "id": "1cff288f",
   "metadata": {},
   "outputs": [
    {
     "name": "stdout",
     "output_type": "stream",
     "text": [
      "Total unique eklektores: 350\n",
      "Total unique eklektores: 363\n"
     ]
    }
   ],
   "source": [
    "unique_eklektores_2024: list = get_all_eklektores_in_year(fields_2024)\n",
    "unique_eklektores_2025: list = get_all_eklektores_in_year(fields_2025)\n",
    "# unique_eklektores_2024"
   ]
  },
  {
   "cell_type": "code",
   "execution_count": 29,
   "id": "ef11202d",
   "metadata": {},
   "outputs": [
    {
     "name": "stdout",
     "output_type": "stream",
     "text": [
      "Eklektores only in 2024: 20\n"
     ]
    },
    {
     "data": {
      "text/plain": [
       "[18944,\n",
       " 3586,\n",
       " 17939,\n",
       " 4505,\n",
       " 17307,\n",
       " 17701,\n",
       " 9254,\n",
       " 8104,\n",
       " 18222,\n",
       " 2610,\n",
       " 3764,\n",
       " 19001,\n",
       " 19647,\n",
       " 4557,\n",
       " 18256,\n",
       " 18268,\n",
       " 17516,\n",
       " 4984,\n",
       " 5246,\n",
       " 19583]"
      ]
     },
     "execution_count": 29,
     "metadata": {},
     "output_type": "execute_result"
    }
   ],
   "source": [
    "# Find eklektores that appear in 2024 but not in 2025\n",
    "eklektores_only_in_2024 = list(set(unique_eklektores_2024) - set(unique_eklektores_2025))\n",
    "print(f\"Eklektores only in 2024: {len(eklektores_only_in_2024)}\")\n",
    "eklektores_only_in_2024"
   ]
  },
  {
   "cell_type": "code",
   "execution_count": null,
   "id": "f5f13a9a",
   "metadata": {},
   "outputs": [],
   "source": []
  },
  {
   "cell_type": "code",
   "execution_count": null,
   "id": "c28384cc",
   "metadata": {},
   "outputs": [],
   "source": []
  },
  {
   "cell_type": "code",
   "execution_count": null,
   "id": "4654f82e",
   "metadata": {},
   "outputs": [],
   "source": []
  },
  {
   "cell_type": "markdown",
   "id": "d6a0fef3",
   "metadata": {},
   "source": [
    "### Εκλέκτορες ανά γνωστικό αντικείμενο της προηγούμενης χρονιάς"
   ]
  },
  {
   "cell_type": "code",
   "execution_count": null,
   "id": "7e5014b7",
   "metadata": {},
   "outputs": [],
   "source": []
  }
 ],
 "metadata": {
  "kernelspec": {
   "display_name": "civil_ihu_pyappz (3.12.9)",
   "language": "python",
   "name": "python3"
  },
  "language_info": {
   "codemirror_mode": {
    "name": "ipython",
    "version": 3
   },
   "file_extension": ".py",
   "mimetype": "text/x-python",
   "name": "python",
   "nbconvert_exporter": "python",
   "pygments_lexer": "ipython3",
   "version": "3.12.9"
  }
 },
 "nbformat": 4,
 "nbformat_minor": 5
}
