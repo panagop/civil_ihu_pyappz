{
 "cells": [
  {
   "cell_type": "code",
   "execution_count": 1,
   "id": "408fa9c9-3f22-45c9-b1da-9863e38d1bc6",
   "metadata": {
    "tags": []
   },
   "outputs": [],
   "source": [
    "import pandas as pd\n",
    "from docxtpl import DocxTemplate\n",
    "from docxcompose.composer import Composer\n",
    "from docx import Document\n",
    "from docx.enum.text import WD_BREAK\n",
    "import json\n",
    "from sys import getsizeof\n",
    "import io\n",
    "from pprint import pprint\n",
    "import requests"
   ]
  },
  {
   "cell_type": "code",
   "execution_count": 2,
   "id": "93e3fdbb-ae63-49af-b9fb-034c772104c1",
   "metadata": {
    "tags": []
   },
   "outputs": [
    {
     "name": "stdout",
     "output_type": "stream",
     "text": [
      "1qOLxB2BNYvTLiTxofUSJCUVd7JIdkcflPTcR_FLub5k\n"
     ]
    }
   ],
   "source": [
    "try:\n",
    "    with open('../files/keys.json') as f:\n",
    "        data = json.load(f)\n",
    "        gsheet_perigrammata_id = data['gsheet_perigrammata']\n",
    "        print(gsheet_perigrammata_id)\n",
    "except:\n",
    "    print(2)\n",
    "    pass"
   ]
  },
  {
   "cell_type": "code",
   "execution_count": null,
   "id": "3bdf8d41-d12b-4949-aecc-407d5864200b",
   "metadata": {},
   "outputs": [],
   "source": []
  },
  {
   "cell_type": "code",
   "execution_count": 3,
   "id": "5fb75793-3ca2-483c-b45b-69ca3afffc4d",
   "metadata": {
    "tags": []
   },
   "outputs": [],
   "source": [
    "def replace_none_with_empty_str(some_dict):\n",
    "    return {k: ('' if v is None else v) for k, v in some_dict.items()}"
   ]
  },
  {
   "cell_type": "code",
   "execution_count": 4,
   "id": "5e0a4e21-3d50-4e7e-be95-d10a1c4bbe22",
   "metadata": {
    "tags": []
   },
   "outputs": [],
   "source": [
    "def make_word_file(row_dict: dict, lang: str):\n",
    "    if lang == \"gr\":\n",
    "        url = r\"https://github.com/panagop/civil_ihu_pyappz/raw/main/files/perigrammata-template-gr.docx\"\n",
    "    if lang == \"eng\":\n",
    "        url = r\"https://github.com/panagop/civil_ihu_pyappz/raw/main/files/perigrammata-template-eng.docx\"\n",
    "\n",
    "    response = requests.get(url, timeout=5)\n",
    "    bytes_io = io.BytesIO(response.content)\n",
    "\n",
    "    doc = DocxTemplate(bytes_io)\n",
    "\n",
    "    doc.render(row_dict)\n",
    "    buffer = io.BytesIO()\n",
    "    doc.save(buffer)\n",
    "\n",
    "    return buffer.getvalue()"
   ]
  },
  {
   "cell_type": "code",
   "execution_count": 5,
   "id": "f08d7c70-fc29-41dc-9316-90984bdc7a35",
   "metadata": {
    "tags": []
   },
   "outputs": [],
   "source": [
    "def load_gsheet(lang: str) -> pd.DataFrame:\n",
    "    sheet_id = gsheet_perigrammata_id\n",
    "    if lang == \"gr\":\n",
    "        sheet_name = \"gr\"\n",
    "    if lang == \"eng\":\n",
    "        sheet_name = \"eng\"\n",
    "    url = fr\"https://docs.google.com/spreadsheets/d/{sheet_id}/gviz/tq?tqx=out:csv&sheet={sheet_name}\"\n",
    "    df = pd.read_csv(url, dtype_backend='pyarrow', index_col=0)\n",
    "    return df"
   ]
  },
  {
   "cell_type": "code",
   "execution_count": 6,
   "id": "edfd3ef0-e4d4-4274-b746-1b5b2e5e887e",
   "metadata": {
    "tags": []
   },
   "outputs": [],
   "source": [
    "def save_word_file(bytes_stream, file_path):\n",
    "    with open(file_path, \"wb\") as file:\n",
    "        file.write(bytes_stream)"
   ]
  },
  {
   "cell_type": "code",
   "execution_count": null,
   "id": "c7efc2e2-09e0-4fe9-8503-d8b051dd261a",
   "metadata": {},
   "outputs": [],
   "source": []
  },
  {
   "cell_type": "code",
   "execution_count": null,
   "id": "fdcac5d6-a710-4abf-9f76-c0f98867a916",
   "metadata": {},
   "outputs": [],
   "source": []
  },
  {
   "cell_type": "code",
   "execution_count": 7,
   "id": "160dcb5c-3d90-4a54-85c5-cb326825f5b6",
   "metadata": {
    "tags": []
   },
   "outputs": [],
   "source": [
    "df = load_gsheet('eng')"
   ]
  },
  {
   "cell_type": "code",
   "execution_count": 8,
   "id": "a1609776-2ff7-4229-93c8-ac29dfb8b801",
   "metadata": {
    "tags": []
   },
   "outputs": [
    {
     "data": {
      "text/html": [
       "<div>\n",
       "<style scoped>\n",
       "    .dataframe tbody tr th:only-of-type {\n",
       "        vertical-align: middle;\n",
       "    }\n",
       "\n",
       "    .dataframe tbody tr th {\n",
       "        vertical-align: top;\n",
       "    }\n",
       "\n",
       "    .dataframe thead th {\n",
       "        text-align: right;\n",
       "    }\n",
       "</style>\n",
       "<table border=\"1\" class=\"dataframe\">\n",
       "  <thead>\n",
       "    <tr style=\"text-align: right;\">\n",
       "      <th></th>\n",
       "      <th>code</th>\n",
       "      <th>name</th>\n",
       "      <th>school</th>\n",
       "      <th>department</th>\n",
       "      <th>level</th>\n",
       "      <th>examino</th>\n",
       "      <th>didactivities_name1</th>\n",
       "      <th>didactivities_hours1</th>\n",
       "      <th>didactivities_ects1</th>\n",
       "      <th>didactivities_name2</th>\n",
       "      <th>...</th>\n",
       "      <th>hours4</th>\n",
       "      <th>task5</th>\n",
       "      <th>hours5</th>\n",
       "      <th>hours_sum</th>\n",
       "      <th>grading</th>\n",
       "      <th>refs_books</th>\n",
       "      <th>refs_more_title</th>\n",
       "      <th>refs_more</th>\n",
       "      <th>to_be_updated_by</th>\n",
       "      <th>Unnamed: 42</th>\n",
       "    </tr>\n",
       "    <tr>\n",
       "      <th>id</th>\n",
       "      <th></th>\n",
       "      <th></th>\n",
       "      <th></th>\n",
       "      <th></th>\n",
       "      <th></th>\n",
       "      <th></th>\n",
       "      <th></th>\n",
       "      <th></th>\n",
       "      <th></th>\n",
       "      <th></th>\n",
       "      <th></th>\n",
       "      <th></th>\n",
       "      <th></th>\n",
       "      <th></th>\n",
       "      <th></th>\n",
       "      <th></th>\n",
       "      <th></th>\n",
       "      <th></th>\n",
       "      <th></th>\n",
       "      <th></th>\n",
       "      <th></th>\n",
       "    </tr>\n",
       "  </thead>\n",
       "  <tbody>\n",
       "    <tr>\n",
       "      <th>1</th>\n",
       "      <td>ΓΕΝ002</td>\n",
       "      <td>Linear Algebra and Analytical Geometry</td>\n",
       "      <td>Engineering</td>\n",
       "      <td>Civil Engineering</td>\n",
       "      <td>Undergraduate</td>\n",
       "      <td>1st</td>\n",
       "      <td>&lt;NA&gt;</td>\n",
       "      <td>3</td>\n",
       "      <td>5</td>\n",
       "      <td>&lt;NA&gt;</td>\n",
       "      <td>...</td>\n",
       "      <td>&lt;NA&gt;</td>\n",
       "      <td>&lt;NA&gt;</td>\n",
       "      <td>&lt;NA&gt;</td>\n",
       "      <td>130</td>\n",
       "      <td>Final written examination\n",
       "- open-ended questio...</td>\n",
       "      <td>- [in Greek]. Τερζίδης Χαράλαμπος, Λογισμός συ...</td>\n",
       "      <td>&lt;NA&gt;</td>\n",
       "      <td>&lt;NA&gt;</td>\n",
       "      <td>Βοζίκης &amp; Βλαχονάσιου\n",
       "See column T &amp; V.</td>\n",
       "      <td>0</td>\n",
       "    </tr>\n",
       "    <tr>\n",
       "      <th>2</th>\n",
       "      <td>ΓΕΝ001</td>\n",
       "      <td>Differential and Integral Calculus Ι</td>\n",
       "      <td>Engineering</td>\n",
       "      <td>Civil Engineering</td>\n",
       "      <td>Undergraduate</td>\n",
       "      <td>1st</td>\n",
       "      <td>Lectures</td>\n",
       "      <td>4</td>\n",
       "      <td>5</td>\n",
       "      <td>&lt;NA&gt;</td>\n",
       "      <td>...</td>\n",
       "      <td>&lt;NA&gt;</td>\n",
       "      <td>&lt;NA&gt;</td>\n",
       "      <td>&lt;NA&gt;</td>\n",
       "      <td>130</td>\n",
       "      <td>Final written examination\r\n",
       "- open-ended questi...</td>\n",
       "      <td>[In Greek]. Τερζίδης Χαράλαμπος, Λογισμός συνα...</td>\n",
       "      <td>&lt;NA&gt;</td>\n",
       "      <td>&lt;NA&gt;</td>\n",
       "      <td>ΠΑΠΑΙΩΑΝΝΟΥ &amp; Βλαχονάσιου\n",
       "See column T &amp; V.</td>\n",
       "      <td>0</td>\n",
       "    </tr>\n",
       "    <tr>\n",
       "      <th>3</th>\n",
       "      <td>ΣΥΓ001</td>\n",
       "      <td>Geodesy Ι</td>\n",
       "      <td>Engineering</td>\n",
       "      <td>Civil Engineering</td>\n",
       "      <td>Undergraduate</td>\n",
       "      <td>1st</td>\n",
       "      <td>Lectures and Practice</td>\n",
       "      <td>4</td>\n",
       "      <td>5</td>\n",
       "      <td>&lt;NA&gt;</td>\n",
       "      <td>...</td>\n",
       "      <td>52</td>\n",
       "      <td>&lt;NA&gt;</td>\n",
       "      <td>&lt;NA&gt;</td>\n",
       "      <td>130</td>\n",
       "      <td>Inferential Assessment.\n",
       "•        Laboratory as...</td>\n",
       "      <td>•\t[In Greek] Μαθήματα Γεωδαισίας, 2η Έκδοση, Γ...</td>\n",
       "      <td>&lt;NA&gt;</td>\n",
       "      <td>&lt;NA&gt;</td>\n",
       "      <td>ΓΑΛΑΝΗΣ - ΔΑΝΙΗΛ - ΒΛΑΧΟΝΑΣΙΟΥ</td>\n",
       "      <td>0</td>\n",
       "    </tr>\n",
       "    <tr>\n",
       "      <th>4</th>\n",
       "      <td>ΓΕΝ003</td>\n",
       "      <td>Physics for Engineers</td>\n",
       "      <td>Engineering</td>\n",
       "      <td>Civil Engineering</td>\n",
       "      <td>Undergraduate</td>\n",
       "      <td>1st</td>\n",
       "      <td>&lt;NA&gt;</td>\n",
       "      <td>5</td>\n",
       "      <td>6</td>\n",
       "      <td>&lt;NA&gt;</td>\n",
       "      <td>...</td>\n",
       "      <td>9</td>\n",
       "      <td>Individual study</td>\n",
       "      <td>82</td>\n",
       "      <td>156</td>\n",
       "      <td>Theory examination (90%)\n",
       "- mid-term exmams: op...</td>\n",
       "      <td>[In Greek]. Young H., Freedman R., University ...</td>\n",
       "      <td>&lt;NA&gt;</td>\n",
       "      <td>&lt;NA&gt;</td>\n",
       "      <td>ΒΟΖΙΚΗΣ - ΒΛΑΧΟΝΑΣΙΟΥ\n",
       " Βλ κείμενο για στήλες T...</td>\n",
       "      <td>0</td>\n",
       "    </tr>\n",
       "    <tr>\n",
       "      <th>5</th>\n",
       "      <td>ΔΟΜ001</td>\n",
       "      <td>Technical Drawing</td>\n",
       "      <td>Engineering</td>\n",
       "      <td>Civil Engineering</td>\n",
       "      <td>Undergraduate</td>\n",
       "      <td>1st</td>\n",
       "      <td>Lectures, exercises.</td>\n",
       "      <td>4</td>\n",
       "      <td>5</td>\n",
       "      <td>&lt;NA&gt;</td>\n",
       "      <td>...</td>\n",
       "      <td>35</td>\n",
       "      <td>Project(s)</td>\n",
       "      <td>43</td>\n",
       "      <td>130</td>\n",
       "      <td>Compulsory individual assignements.(40% of fin...</td>\n",
       "      <td>Malikouti, St. “TECHNICAL DRAWING: Elements of...</td>\n",
       "      <td>&lt;NA&gt;</td>\n",
       "      <td>&lt;NA&gt;</td>\n",
       "      <td>ΒΛΑΧΟΝΑΣΙΟΥ</td>\n",
       "      <td>0</td>\n",
       "    </tr>\n",
       "  </tbody>\n",
       "</table>\n",
       "<p>5 rows × 42 columns</p>\n",
       "</div>"
      ],
      "text/plain": [
       "      code                                    name       school   \n",
       "id                                                                \n",
       "1   ΓΕΝ002  Linear Algebra and Analytical Geometry  Engineering  \\\n",
       "2   ΓΕΝ001    Differential and Integral Calculus Ι  Engineering   \n",
       "3   ΣΥΓ001                               Geodesy Ι  Engineering   \n",
       "4   ΓΕΝ003                   Physics for Engineers  Engineering   \n",
       "5   ΔΟΜ001                       Technical Drawing  Engineering   \n",
       "\n",
       "           department          level examino    didactivities_name1   \n",
       "id                                                                    \n",
       "1   Civil Engineering  Undergraduate     1st                   <NA>  \\\n",
       "2   Civil Engineering  Undergraduate     1st               Lectures   \n",
       "3   Civil Engineering  Undergraduate     1st  Lectures and Practice   \n",
       "4   Civil Engineering  Undergraduate     1st                   <NA>   \n",
       "5   Civil Engineering  Undergraduate     1st   Lectures, exercises.   \n",
       "\n",
       "    didactivities_hours1  didactivities_ects1 didactivities_name2  ... hours4   \n",
       "id                                                                 ...          \n",
       "1                      3                    5                <NA>  ...   <NA>  \\\n",
       "2                      4                    5                <NA>  ...   <NA>   \n",
       "3                      4                    5                <NA>  ...     52   \n",
       "4                      5                    6                <NA>  ...      9   \n",
       "5                      4                    5                <NA>  ...     35   \n",
       "\n",
       "               task5 hours5 hours_sum   \n",
       "id                                      \n",
       "1               <NA>   <NA>       130  \\\n",
       "2               <NA>   <NA>       130   \n",
       "3               <NA>   <NA>       130   \n",
       "4   Individual study     82       156   \n",
       "5         Project(s)     43       130   \n",
       "\n",
       "                                              grading   \n",
       "id                                                      \n",
       "1   Final written examination\n",
       "- open-ended questio...  \\\n",
       "2   Final written examination\n",
       "- open-ended questi...   \n",
       "3   Inferential Assessment.\n",
       "•        Laboratory as...   \n",
       "4   Theory examination (90%)\n",
       "- mid-term exmams: op...   \n",
       "5   Compulsory individual assignements.(40% of fin...   \n",
       "\n",
       "                                           refs_books refs_more_title   \n",
       "id                                                                      \n",
       "1   - [in Greek]. Τερζίδης Χαράλαμπος, Λογισμός συ...            <NA>  \\\n",
       "2   [In Greek]. Τερζίδης Χαράλαμπος, Λογισμός συνα...            <NA>   \n",
       "3   •\t[In Greek] Μαθήματα Γεωδαισίας, 2η Έκδοση, Γ...            <NA>   \n",
       "4   [In Greek]. Young H., Freedman R., University ...            <NA>   \n",
       "5   Malikouti, St. “TECHNICAL DRAWING: Elements of...            <NA>   \n",
       "\n",
       "   refs_more                                   to_be_updated_by Unnamed: 42  \n",
       "id                                                                           \n",
       "1       <NA>            Βοζίκης & Βλαχονάσιου\n",
       "See column T & V.           0  \n",
       "2       <NA>        ΠΑΠΑΙΩΑΝΝΟΥ & Βλαχονάσιου\n",
       "See column T & V.           0  \n",
       "3       <NA>                     ΓΑΛΑΝΗΣ - ΔΑΝΙΗΛ - ΒΛΑΧΟΝΑΣΙΟΥ           0  \n",
       "4       <NA>  ΒΟΖΙΚΗΣ - ΒΛΑΧΟΝΑΣΙΟΥ\n",
       " Βλ κείμενο για στήλες T...           0  \n",
       "5       <NA>                                        ΒΛΑΧΟΝΑΣΙΟΥ           0  \n",
       "\n",
       "[5 rows x 42 columns]"
      ]
     },
     "execution_count": 8,
     "metadata": {},
     "output_type": "execute_result"
    }
   ],
   "source": [
    "df.head()"
   ]
  },
  {
   "cell_type": "code",
   "execution_count": null,
   "id": "2598254e-e316-4d77-b145-1cfda8500a93",
   "metadata": {},
   "outputs": [],
   "source": []
  },
  {
   "cell_type": "code",
   "execution_count": 38,
   "id": "1b5f7ba5-74cd-4ba2-a1e4-091d4c14f43e",
   "metadata": {
    "tags": []
   },
   "outputs": [],
   "source": [
    "for index, row in df.iterrows():\n",
    "    row_dict = row.to_dict()\n",
    "    row_dict = replace_none_with_empty_str(row_dict)\n",
    "    \n",
    "    word_file_buffer = make_word_file(row_dict, 'eng')\n",
    "    \n",
    "    "
   ]
  },
  {
   "cell_type": "code",
   "execution_count": 9,
   "id": "b64ea392-1e8b-427c-9de1-ffa877a0e7d2",
   "metadata": {
    "tags": []
   },
   "outputs": [],
   "source": [
    "filepath = 'gen'\n",
    "\n",
    "row_dict = df.iloc[2].to_dict()\n",
    "row_dict = replace_none_with_empty_str(row_dict)\n",
    "word_file_buffer = make_word_file(row_dict, 'eng')\n",
    "\n",
    "filename = row_dict['name']+'-'+row_dict['code']\n",
    "save_word_file(bytes_stream = word_file_buffer,\n",
    "               file_path=filepath+'\\\\' + filename + '.docx')"
   ]
  },
  {
   "cell_type": "code",
   "execution_count": null,
   "id": "4d11294a-be78-4072-b5a8-60a0126cc255",
   "metadata": {
    "tags": []
   },
   "outputs": [],
   "source": []
  },
  {
   "cell_type": "code",
   "execution_count": null,
   "id": "bc56a950-601b-4406-956c-afef0a02c4ab",
   "metadata": {},
   "outputs": [],
   "source": []
  },
  {
   "cell_type": "code",
   "execution_count": null,
   "id": "19acf2e7-5b39-4b71-8c15-11b895a03ca7",
   "metadata": {},
   "outputs": [],
   "source": []
  },
  {
   "cell_type": "code",
   "execution_count": null,
   "id": "9dbac515-2c75-42e3-810b-2cefe7fe57c8",
   "metadata": {},
   "outputs": [],
   "source": []
  },
  {
   "cell_type": "code",
   "execution_count": null,
   "id": "348fb6fd-2066-470f-a889-3639f7ee019c",
   "metadata": {},
   "outputs": [],
   "source": []
  },
  {
   "cell_type": "code",
   "execution_count": null,
   "id": "f8f3a4fd-194b-4688-9bf3-77f6b7a9c4e3",
   "metadata": {},
   "outputs": [],
   "source": []
  },
  {
   "cell_type": "code",
   "execution_count": null,
   "id": "e878d211-d57f-4a81-aa1b-3ae172cfd2d2",
   "metadata": {},
   "outputs": [],
   "source": []
  },
  {
   "cell_type": "code",
   "execution_count": 5,
   "id": "03c7eb3b-9b3b-4b7b-beeb-bd55e21c2c88",
   "metadata": {
    "tags": []
   },
   "outputs": [],
   "source": [
    "with open('../files/perigrammata-template-eng.docx', 'rb') as f:\n",
    "    bytes_io = io.BytesIO(f.read())"
   ]
  },
  {
   "cell_type": "code",
   "execution_count": 6,
   "id": "1bcd2b34-5642-47ea-9410-6cef40841aad",
   "metadata": {
    "tags": []
   },
   "outputs": [
    {
     "data": {
      "text/plain": [
       "<_io.BytesIO at 0x26d66c989a0>"
      ]
     },
     "execution_count": 6,
     "metadata": {},
     "output_type": "execute_result"
    }
   ],
   "source": [
    "bytes_io"
   ]
  },
  {
   "cell_type": "code",
   "execution_count": 7,
   "id": "097becd1-761d-4b29-8b4d-8e2c3ca79f66",
   "metadata": {
    "tags": []
   },
   "outputs": [
    {
     "data": {
      "text/plain": [
       "{'code',\n",
       " 'department',\n",
       " 'didactivities_ects1',\n",
       " 'didactivities_ects2',\n",
       " 'didactivities_hours1',\n",
       " 'didactivities_hours2',\n",
       " 'didactivities_name1',\n",
       " 'didactivities_name2',\n",
       " 'erasmus',\n",
       " 'examino',\n",
       " 'grading',\n",
       " 'hours1',\n",
       " 'hours2',\n",
       " 'hours3',\n",
       " 'hours4',\n",
       " 'hours5',\n",
       " 'hours_sum',\n",
       " 'lang',\n",
       " 'learn_objectives',\n",
       " 'level',\n",
       " 'name',\n",
       " 'prereq',\n",
       " 'refs_books',\n",
       " 'school',\n",
       " 'skills',\n",
       " 'subject1',\n",
       " 'subject2',\n",
       " 'subject3',\n",
       " 'task1',\n",
       " 'task2',\n",
       " 'task3',\n",
       " 'task4',\n",
       " 'task5',\n",
       " 'teaching_way',\n",
       " 'techs_used',\n",
       " 'type',\n",
       " 'website'}"
      ]
     },
     "execution_count": 7,
     "metadata": {},
     "output_type": "execute_result"
    }
   ],
   "source": [
    "doc = DocxTemplate(bytes_io)\n",
    "doc.undeclared_template_variables"
   ]
  },
  {
   "cell_type": "code",
   "execution_count": 11,
   "id": "3faa1f5b-9b77-4b50-bf5e-3cea2d149bb7",
   "metadata": {
    "tags": []
   },
   "outputs": [],
   "source": [
    "import requests"
   ]
  },
  {
   "cell_type": "code",
   "execution_count": 17,
   "id": "b3cbf3e8-4ccc-4fc0-89a6-e815a9cf9138",
   "metadata": {
    "tags": []
   },
   "outputs": [],
   "source": [
    "# url = r\"https://github.com/panagop/civil_ihu_pyappz/raw/daf2ec082269559dcc28c8675b0a55178fd3b122/civil_ihu_pyappz/perigrammata-template-eng.docx\"\n",
    "# response = requests.get(url)\n",
    "# bytes_io = io.BytesIO(response.content)"
   ]
  },
  {
   "cell_type": "code",
   "execution_count": 16,
   "id": "05a75515-1544-4df1-a853-af3996fe6003",
   "metadata": {
    "tags": []
   },
   "outputs": [],
   "source": [
    "# doc = DocxTemplate(bytes_io)\n",
    "# doc.undeclared_template_variables"
   ]
  },
  {
   "cell_type": "code",
   "execution_count": null,
   "id": "4c2818a9-07f6-4020-8a55-041813e94ac4",
   "metadata": {},
   "outputs": [],
   "source": []
  },
  {
   "cell_type": "code",
   "execution_count": null,
   "id": "4498f435-bccd-4454-adcc-e37fc5af3b93",
   "metadata": {},
   "outputs": [],
   "source": []
  },
  {
   "cell_type": "code",
   "execution_count": null,
   "id": "c6da1d9d-3579-4db4-8a68-df068ade7ab4",
   "metadata": {},
   "outputs": [],
   "source": []
  },
  {
   "cell_type": "code",
   "execution_count": 10,
   "id": "d6bfd582-8a45-4596-83e6-2a5274dce744",
   "metadata": {
    "tags": []
   },
   "outputs": [],
   "source": [
    "doc = DocxTemplate(\"perigrammata-template-eng.docx\")\n",
    "\n",
    "doc_examino = DocxTemplate(\"Εξάμηνο-template-eng.docx\")"
   ]
  },
  {
   "cell_type": "code",
   "execution_count": 11,
   "id": "3cf373e3-ce5a-4c92-8374-00deb727742c",
   "metadata": {
    "tags": []
   },
   "outputs": [
    {
     "ename": "PackageNotFoundError",
     "evalue": "Package not found at 'perigrammata-template-eng.docx'",
     "output_type": "error",
     "traceback": [
      "\u001b[1;31m---------------------------------------------------------------------------\u001b[0m",
      "\u001b[1;31mPackageNotFoundError\u001b[0m                      Traceback (most recent call last)",
      "Cell \u001b[1;32mIn[11], line 1\u001b[0m\n\u001b[1;32m----> 1\u001b[0m \u001b[43mdoc\u001b[49m\u001b[38;5;241;43m.\u001b[39;49m\u001b[43mundeclared_template_variables\u001b[49m\n",
      "File \u001b[1;32mD:\\mypython_projects\\civil_ihu_pyappz\\.venv\\lib\\site-packages\\docxtpl\\template.py:758\u001b[0m, in \u001b[0;36mDocxTemplate.get_undeclared_template_variables\u001b[1;34m(self, jinja_env)\u001b[0m\n\u001b[0;32m    757\u001b[0m \u001b[38;5;28;01mdef\u001b[39;00m \u001b[38;5;21mget_undeclared_template_variables\u001b[39m(\u001b[38;5;28mself\u001b[39m, jinja_env: Optional[Environment] \u001b[38;5;241m=\u001b[39m \u001b[38;5;28;01mNone\u001b[39;00m) \u001b[38;5;241m-\u001b[39m\u001b[38;5;241m>\u001b[39m Set[\u001b[38;5;28mstr\u001b[39m]:\n\u001b[1;32m--> 758\u001b[0m     \u001b[38;5;28;43mself\u001b[39;49m\u001b[38;5;241;43m.\u001b[39;49m\u001b[43minit_docx\u001b[49m\u001b[43m(\u001b[49m\u001b[43mreload\u001b[49m\u001b[38;5;241;43m=\u001b[39;49m\u001b[38;5;28;43;01mFalse\u001b[39;49;00m\u001b[43m)\u001b[49m\n\u001b[0;32m    759\u001b[0m     xml \u001b[38;5;241m=\u001b[39m \u001b[38;5;28mself\u001b[39m\u001b[38;5;241m.\u001b[39mget_xml()\n\u001b[0;32m    760\u001b[0m     xml \u001b[38;5;241m=\u001b[39m \u001b[38;5;28mself\u001b[39m\u001b[38;5;241m.\u001b[39mpatch_xml(xml)\n",
      "File \u001b[1;32mD:\\mypython_projects\\civil_ihu_pyappz\\.venv\\lib\\site-packages\\docxtpl\\template.py:48\u001b[0m, in \u001b[0;36mDocxTemplate.init_docx\u001b[1;34m(self, reload)\u001b[0m\n\u001b[0;32m     46\u001b[0m \u001b[38;5;28;01mdef\u001b[39;00m \u001b[38;5;21minit_docx\u001b[39m(\u001b[38;5;28mself\u001b[39m, reload: \u001b[38;5;28mbool\u001b[39m \u001b[38;5;241m=\u001b[39m \u001b[38;5;28;01mTrue\u001b[39;00m):\n\u001b[0;32m     47\u001b[0m     \u001b[38;5;28;01mif\u001b[39;00m \u001b[38;5;129;01mnot\u001b[39;00m \u001b[38;5;28mself\u001b[39m\u001b[38;5;241m.\u001b[39mdocx \u001b[38;5;129;01mor\u001b[39;00m (\u001b[38;5;28mself\u001b[39m\u001b[38;5;241m.\u001b[39mis_rendered \u001b[38;5;129;01mand\u001b[39;00m reload):\n\u001b[1;32m---> 48\u001b[0m         \u001b[38;5;28mself\u001b[39m\u001b[38;5;241m.\u001b[39mdocx \u001b[38;5;241m=\u001b[39m \u001b[43mDocument\u001b[49m\u001b[43m(\u001b[49m\u001b[38;5;28;43mself\u001b[39;49m\u001b[38;5;241;43m.\u001b[39;49m\u001b[43mtemplate_file\u001b[49m\u001b[43m)\u001b[49m\n\u001b[0;32m     49\u001b[0m         \u001b[38;5;28mself\u001b[39m\u001b[38;5;241m.\u001b[39mis_rendered \u001b[38;5;241m=\u001b[39m \u001b[38;5;28;01mFalse\u001b[39;00m\n",
      "File \u001b[1;32mD:\\mypython_projects\\civil_ihu_pyappz\\.venv\\lib\\site-packages\\docx\\api.py:25\u001b[0m, in \u001b[0;36mDocument\u001b[1;34m(docx)\u001b[0m\n\u001b[0;32m     18\u001b[0m \u001b[38;5;250m\u001b[39m\u001b[38;5;124;03m\"\"\"\u001b[39;00m\n\u001b[0;32m     19\u001b[0m \u001b[38;5;124;03mReturn a |Document| object loaded from *docx*, where *docx* can be\u001b[39;00m\n\u001b[0;32m     20\u001b[0m \u001b[38;5;124;03meither a path to a ``.docx`` file (a string) or a file-like object. If\u001b[39;00m\n\u001b[0;32m     21\u001b[0m \u001b[38;5;124;03m*docx* is missing or ``None``, the built-in default document \"template\"\u001b[39;00m\n\u001b[0;32m     22\u001b[0m \u001b[38;5;124;03mis loaded.\u001b[39;00m\n\u001b[0;32m     23\u001b[0m \u001b[38;5;124;03m\"\"\"\u001b[39;00m\n\u001b[0;32m     24\u001b[0m docx \u001b[38;5;241m=\u001b[39m _default_docx_path() \u001b[38;5;28;01mif\u001b[39;00m docx \u001b[38;5;129;01mis\u001b[39;00m \u001b[38;5;28;01mNone\u001b[39;00m \u001b[38;5;28;01melse\u001b[39;00m docx\n\u001b[1;32m---> 25\u001b[0m document_part \u001b[38;5;241m=\u001b[39m \u001b[43mPackage\u001b[49m\u001b[38;5;241;43m.\u001b[39;49m\u001b[43mopen\u001b[49m\u001b[43m(\u001b[49m\u001b[43mdocx\u001b[49m\u001b[43m)\u001b[49m\u001b[38;5;241m.\u001b[39mmain_document_part\n\u001b[0;32m     26\u001b[0m \u001b[38;5;28;01mif\u001b[39;00m document_part\u001b[38;5;241m.\u001b[39mcontent_type \u001b[38;5;241m!=\u001b[39m CT\u001b[38;5;241m.\u001b[39mWML_DOCUMENT_MAIN:\n\u001b[0;32m     27\u001b[0m     tmpl \u001b[38;5;241m=\u001b[39m \u001b[38;5;124m\"\u001b[39m\u001b[38;5;124mfile \u001b[39m\u001b[38;5;124m'\u001b[39m\u001b[38;5;132;01m%s\u001b[39;00m\u001b[38;5;124m'\u001b[39m\u001b[38;5;124m is not a Word file, content type is \u001b[39m\u001b[38;5;124m'\u001b[39m\u001b[38;5;132;01m%s\u001b[39;00m\u001b[38;5;124m'\u001b[39m\u001b[38;5;124m\"\u001b[39m\n",
      "File \u001b[1;32mD:\\mypython_projects\\civil_ihu_pyappz\\.venv\\lib\\site-packages\\docx\\opc\\package.py:128\u001b[0m, in \u001b[0;36mOpcPackage.open\u001b[1;34m(cls, pkg_file)\u001b[0m\n\u001b[0;32m    122\u001b[0m \u001b[38;5;129m@classmethod\u001b[39m\n\u001b[0;32m    123\u001b[0m \u001b[38;5;28;01mdef\u001b[39;00m \u001b[38;5;21mopen\u001b[39m(\u001b[38;5;28mcls\u001b[39m, pkg_file):\n\u001b[0;32m    124\u001b[0m \u001b[38;5;250m    \u001b[39m\u001b[38;5;124;03m\"\"\"\u001b[39;00m\n\u001b[0;32m    125\u001b[0m \u001b[38;5;124;03m    Return an |OpcPackage| instance loaded with the contents of\u001b[39;00m\n\u001b[0;32m    126\u001b[0m \u001b[38;5;124;03m    *pkg_file*.\u001b[39;00m\n\u001b[0;32m    127\u001b[0m \u001b[38;5;124;03m    \"\"\"\u001b[39;00m\n\u001b[1;32m--> 128\u001b[0m     pkg_reader \u001b[38;5;241m=\u001b[39m \u001b[43mPackageReader\u001b[49m\u001b[38;5;241;43m.\u001b[39;49m\u001b[43mfrom_file\u001b[49m\u001b[43m(\u001b[49m\u001b[43mpkg_file\u001b[49m\u001b[43m)\u001b[49m\n\u001b[0;32m    129\u001b[0m     package \u001b[38;5;241m=\u001b[39m \u001b[38;5;28mcls\u001b[39m()\n\u001b[0;32m    130\u001b[0m     Unmarshaller\u001b[38;5;241m.\u001b[39munmarshal(pkg_reader, package, PartFactory)\n",
      "File \u001b[1;32mD:\\mypython_projects\\civil_ihu_pyappz\\.venv\\lib\\site-packages\\docx\\opc\\pkgreader.py:32\u001b[0m, in \u001b[0;36mPackageReader.from_file\u001b[1;34m(pkg_file)\u001b[0m\n\u001b[0;32m     27\u001b[0m \u001b[38;5;129m@staticmethod\u001b[39m\n\u001b[0;32m     28\u001b[0m \u001b[38;5;28;01mdef\u001b[39;00m \u001b[38;5;21mfrom_file\u001b[39m(pkg_file):\n\u001b[0;32m     29\u001b[0m \u001b[38;5;250m    \u001b[39m\u001b[38;5;124;03m\"\"\"\u001b[39;00m\n\u001b[0;32m     30\u001b[0m \u001b[38;5;124;03m    Return a |PackageReader| instance loaded with contents of *pkg_file*.\u001b[39;00m\n\u001b[0;32m     31\u001b[0m \u001b[38;5;124;03m    \"\"\"\u001b[39;00m\n\u001b[1;32m---> 32\u001b[0m     phys_reader \u001b[38;5;241m=\u001b[39m \u001b[43mPhysPkgReader\u001b[49m\u001b[43m(\u001b[49m\u001b[43mpkg_file\u001b[49m\u001b[43m)\u001b[49m\n\u001b[0;32m     33\u001b[0m     content_types \u001b[38;5;241m=\u001b[39m _ContentTypeMap\u001b[38;5;241m.\u001b[39mfrom_xml(phys_reader\u001b[38;5;241m.\u001b[39mcontent_types_xml)\n\u001b[0;32m     34\u001b[0m     pkg_srels \u001b[38;5;241m=\u001b[39m PackageReader\u001b[38;5;241m.\u001b[39m_srels_for(phys_reader, PACKAGE_URI)\n",
      "File \u001b[1;32mD:\\mypython_projects\\civil_ihu_pyappz\\.venv\\lib\\site-packages\\docx\\opc\\phys_pkg.py:30\u001b[0m, in \u001b[0;36mPhysPkgReader.__new__\u001b[1;34m(cls, pkg_file)\u001b[0m\n\u001b[0;32m     28\u001b[0m         reader_cls \u001b[38;5;241m=\u001b[39m _ZipPkgReader\n\u001b[0;32m     29\u001b[0m     \u001b[38;5;28;01melse\u001b[39;00m:\n\u001b[1;32m---> 30\u001b[0m         \u001b[38;5;28;01mraise\u001b[39;00m PackageNotFoundError(\n\u001b[0;32m     31\u001b[0m             \u001b[38;5;124m\"\u001b[39m\u001b[38;5;124mPackage not found at \u001b[39m\u001b[38;5;124m'\u001b[39m\u001b[38;5;132;01m%s\u001b[39;00m\u001b[38;5;124m'\u001b[39m\u001b[38;5;124m\"\u001b[39m \u001b[38;5;241m%\u001b[39m pkg_file\n\u001b[0;32m     32\u001b[0m         )\n\u001b[0;32m     33\u001b[0m \u001b[38;5;28;01melse\u001b[39;00m:  \u001b[38;5;66;03m# assume it's a stream and pass it to Zip reader to sort out\u001b[39;00m\n\u001b[0;32m     34\u001b[0m     reader_cls \u001b[38;5;241m=\u001b[39m _ZipPkgReader\n",
      "\u001b[1;31mPackageNotFoundError\u001b[0m: Package not found at 'perigrammata-template-eng.docx'"
     ]
    }
   ],
   "source": [
    "doc.undeclared_template_variables\n"
   ]
  },
  {
   "cell_type": "code",
   "execution_count": null,
   "id": "556909d2-d088-4f1e-935c-3d087d422294",
   "metadata": {},
   "outputs": [],
   "source": []
  },
  {
   "cell_type": "code",
   "execution_count": null,
   "id": "a3d3590d-d0db-4147-b83f-5d638f2dad72",
   "metadata": {},
   "outputs": [],
   "source": []
  },
  {
   "cell_type": "code",
   "execution_count": null,
   "id": "4e698419-a62a-4d89-bc2b-abd8b2ac0485",
   "metadata": {},
   "outputs": [],
   "source": []
  },
  {
   "cell_type": "code",
   "execution_count": null,
   "id": "d6a0f140-a5c8-445e-9ac8-2d5a1fd5b025",
   "metadata": {},
   "outputs": [],
   "source": []
  },
  {
   "cell_type": "code",
   "execution_count": 12,
   "id": "32768002-793b-450c-9fb0-659c99e387bb",
   "metadata": {
    "tags": []
   },
   "outputs": [],
   "source": [
    "sheet_id = gsheet_perigrammata_id\n",
    "sheet_name = \"eng\"\n",
    "url = f\"https://docs.google.com/spreadsheets/d/{sheet_id}/gviz/tq?tqx=out:csv&sheet={sheet_name}\"\n",
    "\n",
    "# df = pd.read_excel('Περιγράμματα-Δεδομένα (gr-eng).xlsx', sheet_name='gr', dtype_backend='pyarrow')\n",
    "# df = df.drop([0])\n",
    "\n",
    "df = pd.read_csv(url, dtype_backend='pyarrow')\n",
    "\n",
    "# df = df.fillna('')\n"
   ]
  },
  {
   "cell_type": "code",
   "execution_count": 13,
   "id": "8ea042d4-0c8a-4a7c-9f30-38abd5fb7c1d",
   "metadata": {
    "tags": []
   },
   "outputs": [],
   "source": []
  },
  {
   "cell_type": "code",
   "execution_count": 14,
   "id": "c97f2dca-cbc0-4b0f-8342-bd94a7367338",
   "metadata": {
    "tags": []
   },
   "outputs": [
    {
     "name": "stdout",
     "output_type": "stream",
     "text": [
      "<class 'pandas.core.frame.DataFrame'>\n",
      "RangeIndex: 102 entries, 0 to 101\n",
      "Data columns (total 43 columns):\n",
      " #   Column                Non-Null Count  Dtype          \n",
      "---  ------                --------------  -----          \n",
      " 0   id                    102 non-null    int64[pyarrow] \n",
      " 1   code                  102 non-null    string[pyarrow]\n",
      " 2   name                  102 non-null    string[pyarrow]\n",
      " 3   school                102 non-null    string[pyarrow]\n",
      " 4   department            102 non-null    string[pyarrow]\n",
      " 5   level                 102 non-null    string[pyarrow]\n",
      " 6   examino               102 non-null    string[pyarrow]\n",
      " 7   didactivities_name1   5 non-null      string[pyarrow]\n",
      " 8   didactivities_hours1  101 non-null    int64[pyarrow] \n",
      " 9   didactivities_ects1   102 non-null    int64[pyarrow] \n",
      " 10  didactivities_name2   0 non-null      null[pyarrow]  \n",
      " 11  didactivities_hours2  0 non-null      null[pyarrow]  \n",
      " 12  didactivities_ects2   0 non-null      null[pyarrow]  \n",
      " 13  type                  102 non-null    string[pyarrow]\n",
      " 14  prereq                1 non-null      string[pyarrow]\n",
      " 15  prereq_knowledge      0 non-null      null[pyarrow]  \n",
      " 16  lang                  102 non-null    string[pyarrow]\n",
      " 17  erasmus               101 non-null    string[pyarrow]\n",
      " 18  website               32 non-null     string[pyarrow]\n",
      " 19  learn_objectives      102 non-null    string[pyarrow]\n",
      " 20  skills                102 non-null    string[pyarrow]\n",
      " 21  subject1              102 non-null    string[pyarrow]\n",
      " 22  subject2              14 non-null     string[pyarrow]\n",
      " 23  subject3              0 non-null      null[pyarrow]  \n",
      " 24  teaching_way          102 non-null    string[pyarrow]\n",
      " 25  techs_used            81 non-null     string[pyarrow]\n",
      " 26  task1                 102 non-null    string[pyarrow]\n",
      " 27  hours1                97 non-null     int64[pyarrow] \n",
      " 28  task2                 102 non-null    string[pyarrow]\n",
      " 29  hours2                92 non-null     int64[pyarrow] \n",
      " 30  task3                 73 non-null     string[pyarrow]\n",
      " 31  hours3                63 non-null     int64[pyarrow] \n",
      " 32  task4                 52 non-null     string[pyarrow]\n",
      " 33  hours4                41 non-null     int64[pyarrow] \n",
      " 34  task5                 15 non-null     string[pyarrow]\n",
      " 35  hours5                7 non-null      int64[pyarrow] \n",
      " 36  hours_sum             102 non-null    int64[pyarrow] \n",
      " 37  grading               102 non-null    string[pyarrow]\n",
      " 38  refs_books            102 non-null    string[pyarrow]\n",
      " 39  refs_more_title       0 non-null      null[pyarrow]  \n",
      " 40  refs_more             0 non-null      null[pyarrow]  \n",
      " 41  to_be_updated_by      102 non-null    string[pyarrow]\n",
      " 42  Unnamed: 42           102 non-null    int64[pyarrow] \n",
      "dtypes: int64[pyarrow](10), null[pyarrow](7), string[pyarrow](26)\n",
      "memory usage: 331.2 KB\n"
     ]
    }
   ],
   "source": [
    "df.info()"
   ]
  },
  {
   "cell_type": "code",
   "execution_count": 15,
   "id": "a02a83a1-85e4-4aeb-85e9-13b1f9daf36b",
   "metadata": {
    "tags": []
   },
   "outputs": [
    {
     "data": {
      "text/html": [
       "<div>\n",
       "<style scoped>\n",
       "    .dataframe tbody tr th:only-of-type {\n",
       "        vertical-align: middle;\n",
       "    }\n",
       "\n",
       "    .dataframe tbody tr th {\n",
       "        vertical-align: top;\n",
       "    }\n",
       "\n",
       "    .dataframe thead th {\n",
       "        text-align: right;\n",
       "    }\n",
       "</style>\n",
       "<table border=\"1\" class=\"dataframe\">\n",
       "  <thead>\n",
       "    <tr style=\"text-align: right;\">\n",
       "      <th></th>\n",
       "      <th>id</th>\n",
       "      <th>code</th>\n",
       "      <th>name</th>\n",
       "      <th>school</th>\n",
       "      <th>department</th>\n",
       "      <th>level</th>\n",
       "      <th>examino</th>\n",
       "      <th>didactivities_name1</th>\n",
       "      <th>didactivities_hours1</th>\n",
       "      <th>didactivities_ects1</th>\n",
       "      <th>...</th>\n",
       "      <th>hours4</th>\n",
       "      <th>task5</th>\n",
       "      <th>hours5</th>\n",
       "      <th>hours_sum</th>\n",
       "      <th>grading</th>\n",
       "      <th>refs_books</th>\n",
       "      <th>refs_more_title</th>\n",
       "      <th>refs_more</th>\n",
       "      <th>to_be_updated_by</th>\n",
       "      <th>Unnamed: 42</th>\n",
       "    </tr>\n",
       "  </thead>\n",
       "  <tbody>\n",
       "    <tr>\n",
       "      <th>0</th>\n",
       "      <td>1</td>\n",
       "      <td>ΓΕΝ002</td>\n",
       "      <td>Linear Algebra and Analytical Geometry</td>\n",
       "      <td>Engineering</td>\n",
       "      <td>Civil Engineering</td>\n",
       "      <td>Undergraduate</td>\n",
       "      <td>1st</td>\n",
       "      <td>&lt;NA&gt;</td>\n",
       "      <td>3</td>\n",
       "      <td>5</td>\n",
       "      <td>...</td>\n",
       "      <td>&lt;NA&gt;</td>\n",
       "      <td>&lt;NA&gt;</td>\n",
       "      <td>&lt;NA&gt;</td>\n",
       "      <td>130</td>\n",
       "      <td>Final written examination\n",
       "- open-ended questio...</td>\n",
       "      <td>- [in Greek]. Τερζίδης Χαράλαμπος, Λογισμός συ...</td>\n",
       "      <td>&lt;NA&gt;</td>\n",
       "      <td>&lt;NA&gt;</td>\n",
       "      <td>Βοζίκης &amp; Βλαχονάσιου\n",
       "See column T &amp; V.</td>\n",
       "      <td>0</td>\n",
       "    </tr>\n",
       "    <tr>\n",
       "      <th>1</th>\n",
       "      <td>2</td>\n",
       "      <td>ΓΕΝ001</td>\n",
       "      <td>Differential and Integral Calculus Ι</td>\n",
       "      <td>Engineering</td>\n",
       "      <td>Civil Engineering</td>\n",
       "      <td>Undergraduate</td>\n",
       "      <td>1st</td>\n",
       "      <td>Lectures</td>\n",
       "      <td>4</td>\n",
       "      <td>5</td>\n",
       "      <td>...</td>\n",
       "      <td>&lt;NA&gt;</td>\n",
       "      <td>&lt;NA&gt;</td>\n",
       "      <td>&lt;NA&gt;</td>\n",
       "      <td>130</td>\n",
       "      <td>Final written examination\r\n",
       "- open-ended questi...</td>\n",
       "      <td>[In Greek]. Τερζίδης Χαράλαμπος, Λογισμός συνα...</td>\n",
       "      <td>&lt;NA&gt;</td>\n",
       "      <td>&lt;NA&gt;</td>\n",
       "      <td>ΠΑΠΑΙΩΑΝΝΟΥ &amp; Βλαχονάσιου\n",
       "See column T &amp; V.</td>\n",
       "      <td>0</td>\n",
       "    </tr>\n",
       "    <tr>\n",
       "      <th>2</th>\n",
       "      <td>3</td>\n",
       "      <td>ΣΥΓ001</td>\n",
       "      <td>Geodesy Ι</td>\n",
       "      <td>Engineering</td>\n",
       "      <td>Civil Engineering</td>\n",
       "      <td>Undergraduate</td>\n",
       "      <td>1st</td>\n",
       "      <td>Lectures and Practice</td>\n",
       "      <td>4</td>\n",
       "      <td>5</td>\n",
       "      <td>...</td>\n",
       "      <td>52</td>\n",
       "      <td>&lt;NA&gt;</td>\n",
       "      <td>&lt;NA&gt;</td>\n",
       "      <td>130</td>\n",
       "      <td>Inferential Assessment.\n",
       "•        Laboratory as...</td>\n",
       "      <td>•\t[In Greek] Μαθήματα Γεωδαισίας, 2η Έκδοση, Γ...</td>\n",
       "      <td>&lt;NA&gt;</td>\n",
       "      <td>&lt;NA&gt;</td>\n",
       "      <td>ΓΑΛΑΝΗΣ - ΔΑΝΙΗΛ - ΒΛΑΧΟΝΑΣΙΟΥ</td>\n",
       "      <td>0</td>\n",
       "    </tr>\n",
       "    <tr>\n",
       "      <th>3</th>\n",
       "      <td>4</td>\n",
       "      <td>ΓΕΝ003</td>\n",
       "      <td>Physics for Engineers</td>\n",
       "      <td>Engineering</td>\n",
       "      <td>Civil Engineering</td>\n",
       "      <td>Undergraduate</td>\n",
       "      <td>1st</td>\n",
       "      <td>&lt;NA&gt;</td>\n",
       "      <td>5</td>\n",
       "      <td>6</td>\n",
       "      <td>...</td>\n",
       "      <td>9</td>\n",
       "      <td>Individual study</td>\n",
       "      <td>82</td>\n",
       "      <td>156</td>\n",
       "      <td>Theory examination (90%)\n",
       "- mid-term exmams: op...</td>\n",
       "      <td>[In Greek]. Young H., Freedman R., University ...</td>\n",
       "      <td>&lt;NA&gt;</td>\n",
       "      <td>&lt;NA&gt;</td>\n",
       "      <td>ΒΟΖΙΚΗΣ - ΒΛΑΧΟΝΑΣΙΟΥ\n",
       " Βλ κείμενο για στήλες T...</td>\n",
       "      <td>0</td>\n",
       "    </tr>\n",
       "    <tr>\n",
       "      <th>4</th>\n",
       "      <td>5</td>\n",
       "      <td>ΔΟΜ001</td>\n",
       "      <td>Technical Drawing</td>\n",
       "      <td>Engineering</td>\n",
       "      <td>Civil Engineering</td>\n",
       "      <td>Undergraduate</td>\n",
       "      <td>1st</td>\n",
       "      <td>Lectures, exercises.</td>\n",
       "      <td>4</td>\n",
       "      <td>5</td>\n",
       "      <td>...</td>\n",
       "      <td>35</td>\n",
       "      <td>Project(s)</td>\n",
       "      <td>43</td>\n",
       "      <td>130</td>\n",
       "      <td>Compulsory individual assignements.(40% of fin...</td>\n",
       "      <td>Malikouti, St. “TECHNICAL DRAWING: Elements of...</td>\n",
       "      <td>&lt;NA&gt;</td>\n",
       "      <td>&lt;NA&gt;</td>\n",
       "      <td>ΒΛΑΧΟΝΑΣΙΟΥ</td>\n",
       "      <td>0</td>\n",
       "    </tr>\n",
       "  </tbody>\n",
       "</table>\n",
       "<p>5 rows × 43 columns</p>\n",
       "</div>"
      ],
      "text/plain": [
       "   id    code                                    name       school   \n",
       "0   1  ΓΕΝ002  Linear Algebra and Analytical Geometry  Engineering  \\\n",
       "1   2  ΓΕΝ001    Differential and Integral Calculus Ι  Engineering   \n",
       "2   3  ΣΥΓ001                               Geodesy Ι  Engineering   \n",
       "3   4  ΓΕΝ003                   Physics for Engineers  Engineering   \n",
       "4   5  ΔΟΜ001                       Technical Drawing  Engineering   \n",
       "\n",
       "          department          level examino    didactivities_name1   \n",
       "0  Civil Engineering  Undergraduate     1st                   <NA>  \\\n",
       "1  Civil Engineering  Undergraduate     1st               Lectures   \n",
       "2  Civil Engineering  Undergraduate     1st  Lectures and Practice   \n",
       "3  Civil Engineering  Undergraduate     1st                   <NA>   \n",
       "4  Civil Engineering  Undergraduate     1st   Lectures, exercises.   \n",
       "\n",
       "   didactivities_hours1  didactivities_ects1  ... hours4             task5   \n",
       "0                     3                    5  ...   <NA>              <NA>  \\\n",
       "1                     4                    5  ...   <NA>              <NA>   \n",
       "2                     4                    5  ...     52              <NA>   \n",
       "3                     5                    6  ...      9  Individual study   \n",
       "4                     4                    5  ...     35        Project(s)   \n",
       "\n",
       "  hours5 hours_sum                                            grading   \n",
       "0   <NA>       130  Final written examination\n",
       "- open-ended questio...  \\\n",
       "1   <NA>       130  Final written examination\n",
       "- open-ended questi...   \n",
       "2   <NA>       130  Inferential Assessment.\n",
       "•        Laboratory as...   \n",
       "3     82       156  Theory examination (90%)\n",
       "- mid-term exmams: op...   \n",
       "4     43       130  Compulsory individual assignements.(40% of fin...   \n",
       "\n",
       "                                          refs_books refs_more_title   \n",
       "0  - [in Greek]. Τερζίδης Χαράλαμπος, Λογισμός συ...            <NA>  \\\n",
       "1  [In Greek]. Τερζίδης Χαράλαμπος, Λογισμός συνα...            <NA>   \n",
       "2  •\t[In Greek] Μαθήματα Γεωδαισίας, 2η Έκδοση, Γ...            <NA>   \n",
       "3  [In Greek]. Young H., Freedman R., University ...            <NA>   \n",
       "4  Malikouti, St. “TECHNICAL DRAWING: Elements of...            <NA>   \n",
       "\n",
       "  refs_more                                   to_be_updated_by Unnamed: 42  \n",
       "0      <NA>            Βοζίκης & Βλαχονάσιου\n",
       "See column T & V.           0  \n",
       "1      <NA>        ΠΑΠΑΙΩΑΝΝΟΥ & Βλαχονάσιου\n",
       "See column T & V.           0  \n",
       "2      <NA>                     ΓΑΛΑΝΗΣ - ΔΑΝΙΗΛ - ΒΛΑΧΟΝΑΣΙΟΥ           0  \n",
       "3      <NA>  ΒΟΖΙΚΗΣ - ΒΛΑΧΟΝΑΣΙΟΥ\n",
       " Βλ κείμενο για στήλες T...           0  \n",
       "4      <NA>                                        ΒΛΑΧΟΝΑΣΙΟΥ           0  \n",
       "\n",
       "[5 rows x 43 columns]"
      ]
     },
     "execution_count": 15,
     "metadata": {},
     "output_type": "execute_result"
    }
   ],
   "source": [
    "df.head()"
   ]
  },
  {
   "cell_type": "code",
   "execution_count": 16,
   "id": "1462a9fa-049a-47c9-b699-9594d2cd0fd3",
   "metadata": {
    "tags": []
   },
   "outputs": [],
   "source": [
    "column_names = df.columns.to_list()"
   ]
  },
  {
   "cell_type": "code",
   "execution_count": 9,
   "id": "2c34f85b-eaa3-4485-9d16-f59e1871527c",
   "metadata": {
    "tags": []
   },
   "outputs": [],
   "source": [
    "# row = df.iloc[3]\n",
    "# print(row_dict['code'])\n",
    "# row_dict"
   ]
  },
  {
   "cell_type": "code",
   "execution_count": 10,
   "id": "a90cf2c5-96a2-456e-a91b-0dea66bec529",
   "metadata": {
    "tags": []
   },
   "outputs": [],
   "source": [
    "# doc.render(row_dict)\n",
    "# doc.save(f\"generated_doc_1.docx\")"
   ]
  },
  {
   "cell_type": "code",
   "execution_count": 10,
   "id": "4c4fac4c-8161-4ff8-b248-1ffa4da31773",
   "metadata": {
    "tags": []
   },
   "outputs": [],
   "source": [
    "# aaa = set()\n",
    "# type(aaa)"
   ]
  },
  {
   "cell_type": "code",
   "execution_count": null,
   "id": "a853b342-24d0-4761-a221-8dc8d0112792",
   "metadata": {
    "tags": []
   },
   "outputs": [],
   "source": []
  },
  {
   "cell_type": "code",
   "execution_count": 17,
   "id": "68684b50-7497-4730-8402-21e0eeea2f1d",
   "metadata": {
    "tags": []
   },
   "outputs": [
    {
     "ename": "PackageNotFoundError",
     "evalue": "Package not found at 'Εξάμηνο-template-eng.docx'",
     "output_type": "error",
     "traceback": [
      "\u001b[1;31m---------------------------------------------------------------------------\u001b[0m",
      "\u001b[1;31mPackageNotFoundError\u001b[0m                      Traceback (most recent call last)",
      "Cell \u001b[1;32mIn[17], line 5\u001b[0m\n\u001b[0;32m      3\u001b[0m examino_path \u001b[38;5;241m=\u001b[39m \u001b[38;5;124mf\u001b[39m\u001b[38;5;124m\"\u001b[39m\u001b[38;5;124mgen\u001b[39m\u001b[38;5;124m\\\u001b[39m\u001b[38;5;132;01m{\u001b[39;00mrow[\u001b[38;5;124m'\u001b[39m\u001b[38;5;124mexamino\u001b[39m\u001b[38;5;124m'\u001b[39m]\u001b[38;5;132;01m:\u001b[39;00m\u001b[38;5;124m02\u001b[39m\u001b[38;5;132;01m}\u001b[39;00m\u001b[38;5;124m_examino.docx\u001b[39m\u001b[38;5;124m\"\u001b[39m\n\u001b[0;32m      4\u001b[0m \u001b[38;5;28;01mif\u001b[39;00m examino_path \u001b[38;5;129;01mnot\u001b[39;00m \u001b[38;5;129;01min\u001b[39;00m document_paths:\n\u001b[1;32m----> 5\u001b[0m     \u001b[43mdoc_examino\u001b[49m\u001b[38;5;241;43m.\u001b[39;49m\u001b[43mrender\u001b[49m\u001b[43m(\u001b[49m\u001b[43m{\u001b[49m\u001b[38;5;124;43m'\u001b[39;49m\u001b[38;5;124;43mexamino\u001b[39;49m\u001b[38;5;124;43m'\u001b[39;49m\u001b[43m:\u001b[49m\u001b[43m \u001b[49m\u001b[43mrow\u001b[49m\u001b[43m[\u001b[49m\u001b[38;5;124;43m'\u001b[39;49m\u001b[38;5;124;43mexamino\u001b[39;49m\u001b[38;5;124;43m'\u001b[39;49m\u001b[43m]\u001b[49m\u001b[43m}\u001b[49m\u001b[43m)\u001b[49m\n\u001b[0;32m      6\u001b[0m     doc_examino\u001b[38;5;241m.\u001b[39msave(examino_path)\n\u001b[0;32m      7\u001b[0m     document_paths\u001b[38;5;241m.\u001b[39mappend(examino_path)\n",
      "File \u001b[1;32mD:\\mypython_projects\\civil_ihu_pyappz\\.venv\\lib\\site-packages\\docxtpl\\template.py:359\u001b[0m, in \u001b[0;36mDocxTemplate.render\u001b[1;34m(self, context, jinja_env, autoescape)\u001b[0m\n\u001b[0;32m    352\u001b[0m \u001b[38;5;28;01mdef\u001b[39;00m \u001b[38;5;21mrender\u001b[39m(\n\u001b[0;32m    353\u001b[0m     \u001b[38;5;28mself\u001b[39m,\n\u001b[0;32m    354\u001b[0m     context: Dict[\u001b[38;5;28mstr\u001b[39m, Any],\n\u001b[1;32m   (...)\u001b[0m\n\u001b[0;32m    357\u001b[0m ) \u001b[38;5;241m-\u001b[39m\u001b[38;5;241m>\u001b[39m \u001b[38;5;28;01mNone\u001b[39;00m:\n\u001b[0;32m    358\u001b[0m     \u001b[38;5;66;03m# init template working attributes\u001b[39;00m\n\u001b[1;32m--> 359\u001b[0m     \u001b[38;5;28;43mself\u001b[39;49m\u001b[38;5;241;43m.\u001b[39;49m\u001b[43mrender_init\u001b[49m\u001b[43m(\u001b[49m\u001b[43m)\u001b[49m\n\u001b[0;32m    361\u001b[0m     \u001b[38;5;28;01mif\u001b[39;00m autoescape:\n\u001b[0;32m    362\u001b[0m         \u001b[38;5;28;01mif\u001b[39;00m \u001b[38;5;129;01mnot\u001b[39;00m jinja_env:\n",
      "File \u001b[1;32mD:\\mypython_projects\\civil_ihu_pyappz\\.venv\\lib\\site-packages\\docxtpl\\template.py:52\u001b[0m, in \u001b[0;36mDocxTemplate.render_init\u001b[1;34m(self)\u001b[0m\n\u001b[0;32m     51\u001b[0m \u001b[38;5;28;01mdef\u001b[39;00m \u001b[38;5;21mrender_init\u001b[39m(\u001b[38;5;28mself\u001b[39m):\n\u001b[1;32m---> 52\u001b[0m     \u001b[38;5;28;43mself\u001b[39;49m\u001b[38;5;241;43m.\u001b[39;49m\u001b[43minit_docx\u001b[49m\u001b[43m(\u001b[49m\u001b[43m)\u001b[49m\n\u001b[0;32m     53\u001b[0m     \u001b[38;5;28mself\u001b[39m\u001b[38;5;241m.\u001b[39mpic_map \u001b[38;5;241m=\u001b[39m {}\n\u001b[0;32m     54\u001b[0m     \u001b[38;5;28mself\u001b[39m\u001b[38;5;241m.\u001b[39mcurrent_rendering_part \u001b[38;5;241m=\u001b[39m \u001b[38;5;28;01mNone\u001b[39;00m\n",
      "File \u001b[1;32mD:\\mypython_projects\\civil_ihu_pyappz\\.venv\\lib\\site-packages\\docxtpl\\template.py:48\u001b[0m, in \u001b[0;36mDocxTemplate.init_docx\u001b[1;34m(self, reload)\u001b[0m\n\u001b[0;32m     46\u001b[0m \u001b[38;5;28;01mdef\u001b[39;00m \u001b[38;5;21minit_docx\u001b[39m(\u001b[38;5;28mself\u001b[39m, reload: \u001b[38;5;28mbool\u001b[39m \u001b[38;5;241m=\u001b[39m \u001b[38;5;28;01mTrue\u001b[39;00m):\n\u001b[0;32m     47\u001b[0m     \u001b[38;5;28;01mif\u001b[39;00m \u001b[38;5;129;01mnot\u001b[39;00m \u001b[38;5;28mself\u001b[39m\u001b[38;5;241m.\u001b[39mdocx \u001b[38;5;129;01mor\u001b[39;00m (\u001b[38;5;28mself\u001b[39m\u001b[38;5;241m.\u001b[39mis_rendered \u001b[38;5;129;01mand\u001b[39;00m reload):\n\u001b[1;32m---> 48\u001b[0m         \u001b[38;5;28mself\u001b[39m\u001b[38;5;241m.\u001b[39mdocx \u001b[38;5;241m=\u001b[39m \u001b[43mDocument\u001b[49m\u001b[43m(\u001b[49m\u001b[38;5;28;43mself\u001b[39;49m\u001b[38;5;241;43m.\u001b[39;49m\u001b[43mtemplate_file\u001b[49m\u001b[43m)\u001b[49m\n\u001b[0;32m     49\u001b[0m         \u001b[38;5;28mself\u001b[39m\u001b[38;5;241m.\u001b[39mis_rendered \u001b[38;5;241m=\u001b[39m \u001b[38;5;28;01mFalse\u001b[39;00m\n",
      "File \u001b[1;32mD:\\mypython_projects\\civil_ihu_pyappz\\.venv\\lib\\site-packages\\docx\\api.py:25\u001b[0m, in \u001b[0;36mDocument\u001b[1;34m(docx)\u001b[0m\n\u001b[0;32m     18\u001b[0m \u001b[38;5;250m\u001b[39m\u001b[38;5;124;03m\"\"\"\u001b[39;00m\n\u001b[0;32m     19\u001b[0m \u001b[38;5;124;03mReturn a |Document| object loaded from *docx*, where *docx* can be\u001b[39;00m\n\u001b[0;32m     20\u001b[0m \u001b[38;5;124;03meither a path to a ``.docx`` file (a string) or a file-like object. If\u001b[39;00m\n\u001b[0;32m     21\u001b[0m \u001b[38;5;124;03m*docx* is missing or ``None``, the built-in default document \"template\"\u001b[39;00m\n\u001b[0;32m     22\u001b[0m \u001b[38;5;124;03mis loaded.\u001b[39;00m\n\u001b[0;32m     23\u001b[0m \u001b[38;5;124;03m\"\"\"\u001b[39;00m\n\u001b[0;32m     24\u001b[0m docx \u001b[38;5;241m=\u001b[39m _default_docx_path() \u001b[38;5;28;01mif\u001b[39;00m docx \u001b[38;5;129;01mis\u001b[39;00m \u001b[38;5;28;01mNone\u001b[39;00m \u001b[38;5;28;01melse\u001b[39;00m docx\n\u001b[1;32m---> 25\u001b[0m document_part \u001b[38;5;241m=\u001b[39m \u001b[43mPackage\u001b[49m\u001b[38;5;241;43m.\u001b[39;49m\u001b[43mopen\u001b[49m\u001b[43m(\u001b[49m\u001b[43mdocx\u001b[49m\u001b[43m)\u001b[49m\u001b[38;5;241m.\u001b[39mmain_document_part\n\u001b[0;32m     26\u001b[0m \u001b[38;5;28;01mif\u001b[39;00m document_part\u001b[38;5;241m.\u001b[39mcontent_type \u001b[38;5;241m!=\u001b[39m CT\u001b[38;5;241m.\u001b[39mWML_DOCUMENT_MAIN:\n\u001b[0;32m     27\u001b[0m     tmpl \u001b[38;5;241m=\u001b[39m \u001b[38;5;124m\"\u001b[39m\u001b[38;5;124mfile \u001b[39m\u001b[38;5;124m'\u001b[39m\u001b[38;5;132;01m%s\u001b[39;00m\u001b[38;5;124m'\u001b[39m\u001b[38;5;124m is not a Word file, content type is \u001b[39m\u001b[38;5;124m'\u001b[39m\u001b[38;5;132;01m%s\u001b[39;00m\u001b[38;5;124m'\u001b[39m\u001b[38;5;124m\"\u001b[39m\n",
      "File \u001b[1;32mD:\\mypython_projects\\civil_ihu_pyappz\\.venv\\lib\\site-packages\\docx\\opc\\package.py:128\u001b[0m, in \u001b[0;36mOpcPackage.open\u001b[1;34m(cls, pkg_file)\u001b[0m\n\u001b[0;32m    122\u001b[0m \u001b[38;5;129m@classmethod\u001b[39m\n\u001b[0;32m    123\u001b[0m \u001b[38;5;28;01mdef\u001b[39;00m \u001b[38;5;21mopen\u001b[39m(\u001b[38;5;28mcls\u001b[39m, pkg_file):\n\u001b[0;32m    124\u001b[0m \u001b[38;5;250m    \u001b[39m\u001b[38;5;124;03m\"\"\"\u001b[39;00m\n\u001b[0;32m    125\u001b[0m \u001b[38;5;124;03m    Return an |OpcPackage| instance loaded with the contents of\u001b[39;00m\n\u001b[0;32m    126\u001b[0m \u001b[38;5;124;03m    *pkg_file*.\u001b[39;00m\n\u001b[0;32m    127\u001b[0m \u001b[38;5;124;03m    \"\"\"\u001b[39;00m\n\u001b[1;32m--> 128\u001b[0m     pkg_reader \u001b[38;5;241m=\u001b[39m \u001b[43mPackageReader\u001b[49m\u001b[38;5;241;43m.\u001b[39;49m\u001b[43mfrom_file\u001b[49m\u001b[43m(\u001b[49m\u001b[43mpkg_file\u001b[49m\u001b[43m)\u001b[49m\n\u001b[0;32m    129\u001b[0m     package \u001b[38;5;241m=\u001b[39m \u001b[38;5;28mcls\u001b[39m()\n\u001b[0;32m    130\u001b[0m     Unmarshaller\u001b[38;5;241m.\u001b[39munmarshal(pkg_reader, package, PartFactory)\n",
      "File \u001b[1;32mD:\\mypython_projects\\civil_ihu_pyappz\\.venv\\lib\\site-packages\\docx\\opc\\pkgreader.py:32\u001b[0m, in \u001b[0;36mPackageReader.from_file\u001b[1;34m(pkg_file)\u001b[0m\n\u001b[0;32m     27\u001b[0m \u001b[38;5;129m@staticmethod\u001b[39m\n\u001b[0;32m     28\u001b[0m \u001b[38;5;28;01mdef\u001b[39;00m \u001b[38;5;21mfrom_file\u001b[39m(pkg_file):\n\u001b[0;32m     29\u001b[0m \u001b[38;5;250m    \u001b[39m\u001b[38;5;124;03m\"\"\"\u001b[39;00m\n\u001b[0;32m     30\u001b[0m \u001b[38;5;124;03m    Return a |PackageReader| instance loaded with contents of *pkg_file*.\u001b[39;00m\n\u001b[0;32m     31\u001b[0m \u001b[38;5;124;03m    \"\"\"\u001b[39;00m\n\u001b[1;32m---> 32\u001b[0m     phys_reader \u001b[38;5;241m=\u001b[39m \u001b[43mPhysPkgReader\u001b[49m\u001b[43m(\u001b[49m\u001b[43mpkg_file\u001b[49m\u001b[43m)\u001b[49m\n\u001b[0;32m     33\u001b[0m     content_types \u001b[38;5;241m=\u001b[39m _ContentTypeMap\u001b[38;5;241m.\u001b[39mfrom_xml(phys_reader\u001b[38;5;241m.\u001b[39mcontent_types_xml)\n\u001b[0;32m     34\u001b[0m     pkg_srels \u001b[38;5;241m=\u001b[39m PackageReader\u001b[38;5;241m.\u001b[39m_srels_for(phys_reader, PACKAGE_URI)\n",
      "File \u001b[1;32mD:\\mypython_projects\\civil_ihu_pyappz\\.venv\\lib\\site-packages\\docx\\opc\\phys_pkg.py:30\u001b[0m, in \u001b[0;36mPhysPkgReader.__new__\u001b[1;34m(cls, pkg_file)\u001b[0m\n\u001b[0;32m     28\u001b[0m         reader_cls \u001b[38;5;241m=\u001b[39m _ZipPkgReader\n\u001b[0;32m     29\u001b[0m     \u001b[38;5;28;01melse\u001b[39;00m:\n\u001b[1;32m---> 30\u001b[0m         \u001b[38;5;28;01mraise\u001b[39;00m PackageNotFoundError(\n\u001b[0;32m     31\u001b[0m             \u001b[38;5;124m\"\u001b[39m\u001b[38;5;124mPackage not found at \u001b[39m\u001b[38;5;124m'\u001b[39m\u001b[38;5;132;01m%s\u001b[39;00m\u001b[38;5;124m'\u001b[39m\u001b[38;5;124m\"\u001b[39m \u001b[38;5;241m%\u001b[39m pkg_file\n\u001b[0;32m     32\u001b[0m         )\n\u001b[0;32m     33\u001b[0m \u001b[38;5;28;01melse\u001b[39;00m:  \u001b[38;5;66;03m# assume it's a stream and pass it to Zip reader to sort out\u001b[39;00m\n\u001b[0;32m     34\u001b[0m     reader_cls \u001b[38;5;241m=\u001b[39m _ZipPkgReader\n",
      "\u001b[1;31mPackageNotFoundError\u001b[0m: Package not found at 'Εξάμηνο-template-eng.docx'"
     ]
    }
   ],
   "source": [
    "document_paths = []\n",
    "for index, row in df.iterrows():\n",
    "    examino_path = f\"gen\\{row['examino']:02}_examino.docx\"\n",
    "    if examino_path not in document_paths:\n",
    "        doc_examino.render({'examino': row['examino']})\n",
    "        doc_examino.save(examino_path)\n",
    "        document_paths.append(examino_path)\n",
    "        print(examino_path)\n",
    "    row_dict = row.to_dict()\n",
    "    row_dict = replace_none_with_empty_str(row_dict)\n",
    "    doc.render(row_dict)\n",
    "    path = f\"gen\\{row_dict['examino']:02}_{row_dict['code']}.docx\"\n",
    "    doc.save(path)\n",
    "    document_paths.append(path)"
   ]
  },
  {
   "cell_type": "code",
   "execution_count": null,
   "id": "db323f2e-823b-47ce-91b0-4d7ae9f9fa26",
   "metadata": {
    "tags": []
   },
   "outputs": [],
   "source": []
  },
  {
   "cell_type": "code",
   "execution_count": 20,
   "id": "e4a17779-56b4-477d-877a-942827e936a4",
   "metadata": {
    "tags": []
   },
   "outputs": [
    {
     "data": {
      "text/plain": [
       "'gen\\\\01_ΓΕΝ002.docx'"
      ]
     },
     "execution_count": 20,
     "metadata": {},
     "output_type": "execute_result"
    }
   ],
   "source": [
    "document_paths[1]"
   ]
  },
  {
   "cell_type": "code",
   "execution_count": 12,
   "id": "10c5c205-fbf0-4298-83fe-e6f8c31907ee",
   "metadata": {
    "tags": []
   },
   "outputs": [],
   "source": [
    "merged_document = Document('Perigrammata-template-gr.docx')\n",
    "composer = Composer(merged_document)\n",
    "for path in document_paths:\n",
    "    d = Document(path)\n",
    "    d.add_page_break()\n",
    "    composer.append(d)\n",
    "composer.save('merged_document.docx')"
   ]
  },
  {
   "cell_type": "code",
   "execution_count": null,
   "id": "03129133-437a-4a8c-bc2e-547846d286e0",
   "metadata": {
    "tags": []
   },
   "outputs": [],
   "source": []
  },
  {
   "cell_type": "code",
   "execution_count": null,
   "id": "a6392ad1-714b-4611-8322-2074b823315b",
   "metadata": {
    "tags": []
   },
   "outputs": [],
   "source": [
    "# sheet_id = \"1qOLxB2BNYvTLiTxofUSJCUVd7JIdkcflPTcR_FLub5k\"\n",
    "# sheet_name = \"gr\"\n",
    "# url = f\"https://docs.google.com/spreadsheets/d/{sheet_id}/gviz/tq?tqx=out:csv&sheet={sheet_name}\""
   ]
  },
  {
   "cell_type": "code",
   "execution_count": null,
   "id": "7429a542-3b3e-451d-837e-9410ee0f830e",
   "metadata": {
    "tags": []
   },
   "outputs": [],
   "source": [
    "# pd.read_csv(url, dtype_backend='pyarrow')"
   ]
  },
  {
   "cell_type": "code",
   "execution_count": null,
   "id": "1e67f4d6-1a32-44fb-b471-b9335ecc8c6b",
   "metadata": {},
   "outputs": [],
   "source": []
  },
  {
   "cell_type": "code",
   "execution_count": null,
   "id": "c4821431-92bf-4450-8ccd-bcab5ee2956d",
   "metadata": {
    "tags": []
   },
   "outputs": [],
   "source": [
    "print(f'{1:03}')"
   ]
  },
  {
   "cell_type": "code",
   "execution_count": null,
   "id": "470a5224-b810-49e0-a24b-45c283213671",
   "metadata": {
    "tags": []
   },
   "outputs": [],
   "source": [
    "document_paths"
   ]
  },
  {
   "cell_type": "code",
   "execution_count": 26,
   "id": "0f7920b9-a07f-4936-ad14-ed002d37238c",
   "metadata": {
    "tags": []
   },
   "outputs": [],
   "source": []
  },
  {
   "cell_type": "code",
   "execution_count": 37,
   "id": "a37b073b-0189-4c7d-b886-778ecf087ad2",
   "metadata": {
    "tags": []
   },
   "outputs": [],
   "source": []
  },
  {
   "cell_type": "code",
   "execution_count": 31,
   "id": "695a6a3a-3ca8-48ef-8054-7051ad4eac3e",
   "metadata": {
    "tags": []
   },
   "outputs": [
    {
     "data": {
      "text/plain": [
       "'1qOLxB2BNYvTLiTxofUSJCUVd7JIdkcflPTcR_FLub5k'"
      ]
     },
     "execution_count": 31,
     "metadata": {},
     "output_type": "execute_result"
    }
   ],
   "source": [
    "data['gsheet_perigrammata']"
   ]
  },
  {
   "cell_type": "code",
   "execution_count": 36,
   "id": "a78254ea-3573-4276-bb1e-4d71b50194a2",
   "metadata": {
    "tags": []
   },
   "outputs": [
    {
     "data": {
      "text/plain": [
       "'444'"
      ]
     },
     "execution_count": 36,
     "metadata": {},
     "output_type": "execute_result"
    }
   ],
   "source": [
    "gsheet_perigrammata2"
   ]
  },
  {
   "cell_type": "code",
   "execution_count": null,
   "id": "a67dd8db-95e8-4e59-b6ea-091296f4942f",
   "metadata": {},
   "outputs": [],
   "source": []
  }
 ],
 "metadata": {
  "kernelspec": {
   "display_name": "Python 3 (ipykernel)",
   "language": "python",
   "name": "python3"
  },
  "language_info": {
   "codemirror_mode": {
    "name": "ipython",
    "version": 3
   },
   "file_extension": ".py",
   "mimetype": "text/x-python",
   "name": "python",
   "nbconvert_exporter": "python",
   "pygments_lexer": "ipython3",
   "version": "3.10.11"
  }
 },
 "nbformat": 4,
 "nbformat_minor": 5
}
